{
  "nbformat": 4,
  "nbformat_minor": 0,
  "metadata": {
    "colab": {
      "name": "BERT_Tuning.ipynb",
      "provenance": [],
      "collapsed_sections": []
    },
    "kernelspec": {
      "name": "python3",
      "display_name": "Python 3"
    },
    "language_info": {
      "name": "python"
    },
    "accelerator": "GPU"
  },
  "cells": [
    {
      "cell_type": "markdown",
      "source": [
        "# Biweekly Report 3\n",
        "\n",
        "# Fine-Tuning BERT for Paraphrasing\n",
        "\n",
        "## Jake Watts"
      ],
      "metadata": {
        "id": "B9Os_6_UqCUC"
      }
    },
    {
      "cell_type": "markdown",
      "source": [
        "In this section of the report, I fine-tune a BERT model on the Microsoft Research Paraphrase Corpus (MRPC). The corpus consists of pairs of sentences taken from the news. Each pair is labeled as \"semantically equivalent\" or \"not semantically equivalent\". The dataset is part of the GLUE (General Language Understanding Evaluation) benchmarks which is a collection of resources to evaluate the performance of language understanding systems.\n",
        "\n",
        "The goal in fine-tuning BERT will be to create a model that can correctly identify whether or not the pairs of sentences are semantically equivalent and the performance will be evaluated by looking at the accuracy as well as a confusion matrix on the test data. The results from this model can also be used as a baseline to compare to more advanced models such as ELECTRA which is implemented on the same data by Johnny in his section of the report.\n",
        "\n",
        "Sources:\n",
        "\n",
        "https://www.microsoft.com/en-us/download/details.aspx?id=52398\n",
        "\n",
        "https://www.tensorflow.org/text/tutorials/fine_tune_bert?hl=ca\n",
        "\n",
        "https://github.com/nyu-mll/GLUE-baselines\n",
        "\n",
        "https://tfhub.dev/tensorflow/bert_en_uncased_L-12_H-768_A-12/3\n",
        "\n",
        "https://arxiv.org/abs/1810.04805"
      ],
      "metadata": {
        "id": "0RlVlrc4HEii"
      }
    },
    {
      "cell_type": "code",
      "execution_count": 1,
      "metadata": {
        "colab": {
          "base_uri": "https://localhost:8080/"
        },
        "id": "_Vn0CIW6p-kT",
        "outputId": "7e4ea12b-c7cf-4628-e77a-b6422145d6a4"
      },
      "outputs": [
        {
          "output_type": "stream",
          "name": "stdout",
          "text": [
            "\u001b[K     |████████████████████████████████| 4.9 MB 7.2 MB/s \n",
            "\u001b[K     |████████████████████████████████| 495.0 MB 34 kB/s \n",
            "\u001b[K     |████████████████████████████████| 463 kB 47.1 MB/s \n",
            "\u001b[K     |████████████████████████████████| 1.3 MB 36.3 MB/s \n",
            "\u001b[?25h"
          ]
        }
      ],
      "source": [
        "pip install -q -U tensorflow-text==2.7.3"
      ]
    },
    {
      "cell_type": "code",
      "source": [
        "pip install -q tf-models-official==2.4.0"
      ],
      "metadata": {
        "colab": {
          "base_uri": "https://localhost:8080/"
        },
        "id": "IGLAjIvqqfql",
        "outputId": "a0826843-7690-4d13-a322-dcfbe98e5890"
      },
      "execution_count": 2,
      "outputs": [
        {
          "output_type": "stream",
          "name": "stdout",
          "text": [
            "\u001b[K     |████████████████████████████████| 1.1 MB 7.8 MB/s \n",
            "\u001b[K     |████████████████████████████████| 1.2 MB 38.9 MB/s \n",
            "\u001b[K     |████████████████████████████████| 352 kB 50.9 MB/s \n",
            "\u001b[K     |████████████████████████████████| 99 kB 9.1 MB/s \n",
            "\u001b[K     |████████████████████████████████| 47.7 MB 1.5 MB/s \n",
            "\u001b[K     |████████████████████████████████| 234 kB 53.9 MB/s \n",
            "\u001b[K     |████████████████████████████████| 1.1 MB 37.6 MB/s \n",
            "\u001b[K     |████████████████████████████████| 43 kB 2.2 MB/s \n",
            "\u001b[K     |████████████████████████████████| 596 kB 50.2 MB/s \n",
            "\u001b[?25h  Building wheel for py-cpuinfo (setup.py) ... \u001b[?25l\u001b[?25hdone\n",
            "  Building wheel for seqeval (setup.py) ... \u001b[?25l\u001b[?25hdone\n"
          ]
        }
      ]
    },
    {
      "cell_type": "code",
      "source": [
        "import os\n",
        "\n",
        "import numpy as np\n",
        "import matplotlib.pyplot as plt\n",
        "\n",
        "import tensorflow as tf\n",
        "\n",
        "import tensorflow_hub as hub\n",
        "import tensorflow_datasets as tfds\n",
        "tfds.disable_progress_bar()\n",
        "\n",
        "from official.modeling import tf_utils\n",
        "from official import nlp\n",
        "from official.nlp import bert\n",
        "\n",
        "# Load the required submodules\n",
        "import official.nlp.optimization\n",
        "import official.nlp.bert.bert_models\n",
        "import official.nlp.bert.configs\n",
        "import official.nlp.bert.run_classifier\n",
        "import official.nlp.bert.tokenization\n",
        "import official.nlp.data.classifier_data_lib\n",
        "import official.nlp.modeling.losses\n",
        "import official.nlp.modeling.models\n",
        "import official.nlp.modeling.networks"
      ],
      "metadata": {
        "id": "Zs0Q0aZZq--W"
      },
      "execution_count": 3,
      "outputs": []
    },
    {
      "cell_type": "markdown",
      "source": [
        "Loading the BERT model from Tensorflow Hub. The weights are the weights released by the original authors of the paper \"BERT: Pre-training of Deep Bidirectional Transformers for Language Understanding\". The model was pre-trained using the English language from Wikipedia and BooksCorpus."
      ],
      "metadata": {
        "id": "-G11F837MezV"
      }
    },
    {
      "cell_type": "code",
      "source": [
        "hub_url_bert = \"https://tfhub.dev/tensorflow/bert_en_uncased_L-12_H-768_A-12/3\"\n",
        "gs_folder_bert = \"gs://cloud-tpu-checkpoints/bert/v3/uncased_L-12_H-768_A-12\"\n",
        "tf.io.gfile.listdir(gs_folder_bert)"
      ],
      "metadata": {
        "colab": {
          "base_uri": "https://localhost:8080/"
        },
        "id": "qdQEk4L_rI92",
        "outputId": "3ae1ad86-e19f-492d-a5b1-3e61d2036c96"
      },
      "execution_count": 4,
      "outputs": [
        {
          "output_type": "execute_result",
          "data": {
            "text/plain": [
              "['bert_config.json',\n",
              " 'bert_model.ckpt.data-00000-of-00001',\n",
              " 'bert_model.ckpt.index',\n",
              " 'vocab.txt']"
            ]
          },
          "metadata": {},
          "execution_count": 4
        }
      ]
    },
    {
      "cell_type": "markdown",
      "source": [
        "## Exploratory Data Analysis + Pre-Processing"
      ],
      "metadata": {
        "id": "iWTKa8aBKdU4"
      }
    },
    {
      "cell_type": "markdown",
      "source": [
        "Loading the MRPC in from TensorFlow datasets."
      ],
      "metadata": {
        "id": "CQdfcSMKJ-Mk"
      }
    },
    {
      "cell_type": "code",
      "source": [
        "glue, info = tfds.load('glue/mrpc', with_info=True,\n",
        "                       batch_size=-1)"
      ],
      "metadata": {
        "id": "4WYkIIG7rX1U",
        "colab": {
          "base_uri": "https://localhost:8080/"
        },
        "outputId": "b2abf98d-117f-4feb-e1de-9ad726a04d0d"
      },
      "execution_count": 5,
      "outputs": [
        {
          "output_type": "stream",
          "name": "stdout",
          "text": [
            "\u001b[1mDownloading and preparing dataset glue/mrpc/1.0.0 (download: 1.43 MiB, generated: Unknown size, total: 1.43 MiB) to /root/tensorflow_datasets/glue/mrpc/1.0.0...\u001b[0m\n",
            "Shuffling and writing examples to /root/tensorflow_datasets/glue/mrpc/1.0.0.incomplete5GODBI/glue-train.tfrecord\n",
            "Shuffling and writing examples to /root/tensorflow_datasets/glue/mrpc/1.0.0.incomplete5GODBI/glue-validation.tfrecord\n",
            "Shuffling and writing examples to /root/tensorflow_datasets/glue/mrpc/1.0.0.incomplete5GODBI/glue-test.tfrecord\n",
            "\u001b[1mDataset glue downloaded and prepared to /root/tensorflow_datasets/glue/mrpc/1.0.0. Subsequent calls will reuse this data.\u001b[0m\n",
            "WARNING:tensorflow:From /usr/local/lib/python3.7/dist-packages/tensorflow_datasets/core/dataset_builder.py:598: get_single_element (from tensorflow.python.data.experimental.ops.get_single_element) is deprecated and will be removed in a future version.\n",
            "Instructions for updating:\n",
            "Use `tf.data.Dataset.get_single_element()`.\n"
          ]
        },
        {
          "output_type": "stream",
          "name": "stderr",
          "text": [
            "WARNING:tensorflow:From /usr/local/lib/python3.7/dist-packages/tensorflow_datasets/core/dataset_builder.py:598: get_single_element (from tensorflow.python.data.experimental.ops.get_single_element) is deprecated and will be removed in a future version.\n",
            "Instructions for updating:\n",
            "Use `tf.data.Dataset.get_single_element()`.\n"
          ]
        }
      ]
    },
    {
      "cell_type": "markdown",
      "source": [
        "The data is split into a training, testing and validation set."
      ],
      "metadata": {
        "id": "Om7F591XKPXV"
      }
    },
    {
      "cell_type": "code",
      "source": [
        "list(glue.keys())"
      ],
      "metadata": {
        "colab": {
          "base_uri": "https://localhost:8080/"
        },
        "id": "toiLjB0Hrn59",
        "outputId": "ffbaa1bc-0c65-42b1-efac-ccfd7ca11c2b"
      },
      "execution_count": null,
      "outputs": [
        {
          "output_type": "execute_result",
          "data": {
            "text/plain": [
              "['test', 'train', 'validation']"
            ]
          },
          "metadata": {},
          "execution_count": 48
        }
      ]
    },
    {
      "cell_type": "markdown",
      "source": [
        "Below we can see the size of the training, testing and validation sets."
      ],
      "metadata": {
        "id": "0d1GWjRo0btj"
      }
    },
    {
      "cell_type": "code",
      "source": [
        "print(\"Train data size:\", len(glue['train']['idx']))\n",
        "print(\"Validation data size:\", len(glue['validation']['idx']))\n",
        "print(\"Test data size:\", len(glue['test']['idx']))"
      ],
      "metadata": {
        "colab": {
          "base_uri": "https://localhost:8080/"
        },
        "id": "u8bXKazZ0FLi",
        "outputId": "9eb0131e-324b-436c-917a-0aa20106f0a8"
      },
      "execution_count": 13,
      "outputs": [
        {
          "output_type": "stream",
          "name": "stdout",
          "text": [
            "Train data size: 3668\n",
            "Validation data size: 408\n",
            "Test data size: 1725\n"
          ]
        }
      ]
    },
    {
      "cell_type": "markdown",
      "source": [
        "The data consists of sentence pairs (sentence1 and sentence2) along with a label representing semantic equivalence (0 for not equivalent and 1 for equivalent) and an index."
      ],
      "metadata": {
        "id": "mERllMjXNYwR"
      }
    },
    {
      "cell_type": "code",
      "source": [
        "info.features"
      ],
      "metadata": {
        "colab": {
          "base_uri": "https://localhost:8080/"
        },
        "id": "ObbSCspzruph",
        "outputId": "8f5334a2-6baf-4221-bbfb-7f7715f62e93"
      },
      "execution_count": null,
      "outputs": [
        {
          "output_type": "execute_result",
          "data": {
            "text/plain": [
              "FeaturesDict({\n",
              "    'idx': tf.int32,\n",
              "    'label': ClassLabel(shape=(), dtype=tf.int64, num_classes=2),\n",
              "    'sentence1': Text(shape=(), dtype=tf.string),\n",
              "    'sentence2': Text(shape=(), dtype=tf.string),\n",
              "})"
            ]
          },
          "metadata": {},
          "execution_count": 7
        }
      ]
    },
    {
      "cell_type": "code",
      "source": [
        "info.features['label'].names"
      ],
      "metadata": {
        "colab": {
          "base_uri": "https://localhost:8080/"
        },
        "id": "2Flts19Rr0QM",
        "outputId": "cbd0ea53-572d-49b1-8c82-f990cc5c6314"
      },
      "execution_count": null,
      "outputs": [
        {
          "output_type": "execute_result",
          "data": {
            "text/plain": [
              "['not_equivalent', 'equivalent']"
            ]
          },
          "metadata": {},
          "execution_count": 8
        }
      ]
    },
    {
      "cell_type": "markdown",
      "source": [
        "Here is an example of the first sentence pair in the training set. The label indicates that these two sentences are not semantically equivalent."
      ],
      "metadata": {
        "id": "Jf66BTo9NzyI"
      }
    },
    {
      "cell_type": "code",
      "source": [
        "glue_train = glue['train']\n",
        "\n",
        "for key, value in glue_train.items():\n",
        "  print(f\"{key:9s}: {value[3].numpy()}\")"
      ],
      "metadata": {
        "colab": {
          "base_uri": "https://localhost:8080/"
        },
        "id": "UPKVqUgIr76S",
        "outputId": "21c26611-6308-41d2-a025-f39f8c836a05"
      },
      "execution_count": 37,
      "outputs": [
        {
          "output_type": "stream",
          "name": "stdout",
          "text": [
            "idx      : 2896\n",
            "label    : 1\n",
            "sentence1: b\"The 2002 second quarter results don 't include figures from our friends at Compaq .\"\n",
            "sentence2: b'The year-ago numbers do not include figures from Compaq Computer .'\n"
          ]
        }
      ]
    },
    {
      "cell_type": "markdown",
      "source": [
        "From the label distribution below we can see that the labels are not balanced. The training data consists of approximately 2500 equivalent sentence pairs and approximately 1200 non-equivalent sentence pairs."
      ],
      "metadata": {
        "id": "jXdw8zH4yuCs"
      }
    },
    {
      "cell_type": "code",
      "source": [
        "x = glue['train']['label'].numpy()\n",
        "\n",
        "plt.hist(x)\n",
        "plt.title(\"Label Distribution\")\n",
        "plt.show()"
      ],
      "metadata": {
        "colab": {
          "base_uri": "https://localhost:8080/",
          "height": 281
        },
        "id": "pZqeS3fQygxQ",
        "outputId": "1345f2eb-a97f-4a59-c127-5b429b26ce34"
      },
      "execution_count": 34,
      "outputs": [
        {
          "output_type": "display_data",
          "data": {
            "image/png": "[encoded data removed]",
            "text/plain": [
              "<Figure size 432x288 with 1 Axes>"
            ]
          },
          "metadata": {
            "needs_background": "light"
          }
        }
      ]
    },
    {
      "cell_type": "markdown",
      "source": [
        "While looking at the test data I noticed that the labels were all -1 rather than 0 or 1. I believe this is an error and am not sure why the TensorFlow data is like this."
      ],
      "metadata": {
        "id": "cyt3RskkPlxI"
      }
    },
    {
      "cell_type": "code",
      "source": [
        "glue['test']['label']"
      ],
      "metadata": {
        "colab": {
          "base_uri": "https://localhost:8080/"
        },
        "id": "KdCiW-YYR-cF",
        "outputId": "2838a5b5-43a9-42c3-e189-254d90761c16"
      },
      "execution_count": 9,
      "outputs": [
        {
          "output_type": "execute_result",
          "data": {
            "text/plain": [
              "<tf.Tensor: shape=(1725,), dtype=int64, numpy=array([-1, -1, -1, ..., -1, -1, -1])>"
            ]
          },
          "metadata": {},
          "execution_count": 9
        }
      ]
    },
    {
      "cell_type": "markdown",
      "source": [
        "To make it so that I could evaluate on the testing data, I read in the test data from the following URL. The sentences are the same, however the ID numbers are different and the labels are 0 or 1 rather than -1."
      ],
      "metadata": {
        "id": "1NT1Rh4kP3CI"
      }
    },
    {
      "cell_type": "code",
      "source": [
        "from urllib.request import urlopen\n",
        "\n",
        "MRPC_TEST = \"https://dl.fbaipublicfiles.com/senteval/senteval_data/msr_paraphrase_test.txt\"\n",
        "data = urlopen(MRPC_TEST)"
      ],
      "metadata": {
        "id": "GS05IhNcScmp"
      },
      "execution_count": null,
      "outputs": []
    },
    {
      "cell_type": "markdown",
      "source": [
        "Here I extract the correct labels from the text."
      ],
      "metadata": {
        "id": "8QYU8ZflQJ7-"
      }
    },
    {
      "cell_type": "code",
      "source": [
        "test_label = []\n",
        "\n",
        "for line in data:\n",
        "  decoded_line = line.decode(\"utf-8\")\n",
        "  if decoded_line.split(\"\\t\")[0] == '1' or decoded_line.split(\"\\t\")[0] == '0':\n",
        "    input_label = int(decoded_line.split(\"\\t\")[0])\n",
        "    test_label.append(input_label)"
      ],
      "metadata": {
        "id": "POGfP2M4Wy0k"
      },
      "execution_count": null,
      "outputs": []
    },
    {
      "cell_type": "markdown",
      "source": [
        "I then order the labels in the same order as the TensorFlow testing data and convert the labels to a tensor to match the format of the rest of the data."
      ],
      "metadata": {
        "id": "vegEnWyhQOeX"
      }
    },
    {
      "cell_type": "code",
      "source": [
        "test_idx = glue['test']['idx'].numpy()\n",
        "test_label_idx = []\n",
        "\n",
        "for idx in test_idx:\n",
        "   test_label_idx.append(test_label[idx])\n",
        "\n",
        "glue_test_labels = tf.convert_to_tensor(test_label_idx)"
      ],
      "metadata": {
        "id": "MqTjcVQHfxXW"
      },
      "execution_count": null,
      "outputs": []
    },
    {
      "cell_type": "markdown",
      "source": [
        "Now we can set up the tokenizer from the model. The following tokenizer matches the tokenization used in the original BERT model. The total vocabulary size of the tokenizer is 30,522 words."
      ],
      "metadata": {
        "id": "Qx1y-NQd0VuT"
      }
    },
    {
      "cell_type": "code",
      "source": [
        "# Set up tokenizer to generate Tensorflow dataset\n",
        "tokenizer = bert.tokenization.FullTokenizer(\n",
        "    vocab_file=os.path.join(gs_folder_bert, \"vocab.txt\"),\n",
        "     do_lower_case=True)\n",
        "\n",
        "print(\"Vocab size:\", len(tokenizer.vocab))"
      ],
      "metadata": {
        "colab": {
          "base_uri": "https://localhost:8080/"
        },
        "id": "p_Dnn2afsShp",
        "outputId": "da8f307b-34b3-42b7-a1a1-afda307c3d71"
      },
      "execution_count": null,
      "outputs": [
        {
          "output_type": "stream",
          "name": "stdout",
          "text": [
            "Vocab size: 30522\n"
          ]
        }
      ]
    },
    {
      "cell_type": "markdown",
      "source": [
        "Here is an example of how the tokenizer transforms a sentence into a list of tokens."
      ],
      "metadata": {
        "id": "MQhsXqN52vCj"
      }
    },
    {
      "cell_type": "code",
      "source": [
        "tokens = tokenizer.tokenize(\"Hello my name is Jake!\")\n",
        "print(tokens)\n",
        "ids = tokenizer.convert_tokens_to_ids(tokens)\n",
        "print(ids)"
      ],
      "metadata": {
        "colab": {
          "base_uri": "https://localhost:8080/"
        },
        "id": "OWK3z-kzsVdF",
        "outputId": "bc192283-dbc0-4c7d-9ae8-ba13be876862"
      },
      "execution_count": null,
      "outputs": [
        {
          "output_type": "stream",
          "name": "stdout",
          "text": [
            "['hello', 'my', 'name', 'is', 'jake', '!']\n",
            "[7592, 2026, 2171, 2003, 5180, 999]\n"
          ]
        }
      ]
    },
    {
      "cell_type": "markdown",
      "source": [
        "We will also use the following tokens when concatenating the sentences. The [CLS] token indicates a classification problem while [SEP] is a Separator token placed at the end of each sentence. Their respective codes are 101 and 102."
      ],
      "metadata": {
        "id": "PfOqDMg_3BPZ"
      }
    },
    {
      "cell_type": "code",
      "source": [
        "tokenizer.convert_tokens_to_ids(['[CLS]', '[SEP]'])"
      ],
      "metadata": {
        "colab": {
          "base_uri": "https://localhost:8080/"
        },
        "id": "7Fog2jiD3Oox",
        "outputId": "7c897023-3aa9-46f0-ec3f-faea7e8021f5"
      },
      "execution_count": null,
      "outputs": [
        {
          "output_type": "execute_result",
          "data": {
            "text/plain": [
              "[101, 102]"
            ]
          },
          "metadata": {},
          "execution_count": 16
        }
      ]
    },
    {
      "cell_type": "markdown",
      "source": [
        "The function encode sentences tokenizes sentences and adds the separator token to the end. After we encode the sentences we convert them into tensors."
      ],
      "metadata": {
        "id": "nvDYWoiJ38I2"
      }
    },
    {
      "cell_type": "code",
      "source": [
        "def encode_sentence(s):\n",
        "   tokens = list(tokenizer.tokenize(s.numpy()))\n",
        "   tokens.append('[SEP]')\n",
        "   return tokenizer.convert_tokens_to_ids(tokens)\n",
        "\n",
        "sentence1 = tf.ragged.constant([\n",
        "    encode_sentence(s) for s in glue_train[\"sentence1\"]])\n",
        "sentence2 = tf.ragged.constant([\n",
        "    encode_sentence(s) for s in glue_train[\"sentence2\"]])"
      ],
      "metadata": {
        "id": "6aRj2xuS3igT"
      },
      "execution_count": null,
      "outputs": []
    },
    {
      "cell_type": "markdown",
      "source": [
        "Then we add the classification token to the beginning of the sentences and concatenate.\n",
        "\n",
        "The plot below shows a color map representing the tokenization of all 3668 sentence pairs with a max length of 103 tokens. "
      ],
      "metadata": {
        "id": "e5bXxmX84z-l"
      }
    },
    {
      "cell_type": "code",
      "source": [
        "cls = [tokenizer.convert_tokens_to_ids(['[CLS]'])]*sentence1.shape[0]\n",
        "input_word_ids = tf.concat([cls, sentence1, sentence2], axis=-1)\n",
        "_ = plt.pcolormesh(input_word_ids.to_tensor())"
      ],
      "metadata": {
        "colab": {
          "base_uri": "https://localhost:8080/",
          "height": 265
        },
        "id": "2cT9BG1s32MJ",
        "outputId": "33b35238-2f3b-417d-a921-f359ee080948"
      },
      "execution_count": null,
      "outputs": [
        {
          "output_type": "display_data",
          "data": {
            "image/png": "[encoded data removed]",
            "text/plain": [
              "<Figure size 432x288 with 1 Axes>"
            ]
          },
          "metadata": {
            "needs_background": "light"
          }
        }
      ]
    },
    {
      "cell_type": "markdown",
      "source": [
        "The input mask identifies where a sentence is padded, values of 1, represented by yellow in the graph demonstrate that the input is not padded while values of 0 represented as purple mean that the input is padding."
      ],
      "metadata": {
        "id": "FqZksIqM7I8B"
      }
    },
    {
      "cell_type": "code",
      "source": [
        "input_mask = tf.ones_like(input_word_ids).to_tensor()\n",
        "\n",
        "plt.pcolormesh(input_mask)"
      ],
      "metadata": {
        "colab": {
          "base_uri": "https://localhost:8080/",
          "height": 282
        },
        "id": "Ns_ZmytY542E",
        "outputId": "97a68799-9057-472c-997f-13fbbc3d576a"
      },
      "execution_count": null,
      "outputs": [
        {
          "output_type": "execute_result",
          "data": {
            "text/plain": [
              "<matplotlib.collections.QuadMesh at 0x7f187566a7d0>"
            ]
          },
          "metadata": {},
          "execution_count": 20
        },
        {
          "output_type": "display_data",
          "data": {
            "image/png": "[encoded data removed]",
            "text/plain": [
              "<Figure size 432x288 with 1 Axes>"
            ]
          },
          "metadata": {
            "needs_background": "light"
          }
        }
      ]
    },
    {
      "cell_type": "markdown",
      "source": [
        "Input type IDs shows which sentence the token is part of within the padded region."
      ],
      "metadata": {
        "id": "BA9lxbuB7ynO"
      }
    },
    {
      "cell_type": "code",
      "source": [
        "type_cls = tf.zeros_like(cls)\n",
        "type_s1 = tf.zeros_like(sentence1)\n",
        "type_s2 = tf.ones_like(sentence2)\n",
        "input_type_ids = tf.concat([type_cls, type_s1, type_s2], axis=-1).to_tensor()\n",
        "\n",
        "plt.pcolormesh(input_type_ids)"
      ],
      "metadata": {
        "colab": {
          "base_uri": "https://localhost:8080/",
          "height": 282
        },
        "id": "bLTpqzDH587f",
        "outputId": "2dd669e7-41c9-4092-c11e-4699e2b1172d"
      },
      "execution_count": null,
      "outputs": [
        {
          "output_type": "execute_result",
          "data": {
            "text/plain": [
              "<matplotlib.collections.QuadMesh at 0x7f1874b0f490>"
            ]
          },
          "metadata": {},
          "execution_count": 21
        },
        {
          "output_type": "display_data",
          "data": {
            "image/png": "[encoded data removed]",
            "text/plain": [
              "<Figure size 432x288 with 1 Axes>"
            ]
          },
          "metadata": {
            "needs_background": "light"
          }
        }
      ]
    },
    {
      "cell_type": "markdown",
      "source": [
        "The bert_encode function below does all the previously described pre-processing steps to create input_word_ids, input_mask, and input_type_ids."
      ],
      "metadata": {
        "id": "xlrhoJJw8Sqp"
      }
    },
    {
      "cell_type": "code",
      "source": [
        "def encode_sentence(s, tokenizer):\n",
        "   tokens = list(tokenizer.tokenize(s))\n",
        "   tokens.append('[SEP]')\n",
        "   return tokenizer.convert_tokens_to_ids(tokens)\n",
        "\n",
        "def bert_encode(glue_dict, tokenizer):\n",
        "  num_examples = len(glue_dict[\"sentence1\"])\n",
        "\n",
        "  sentence1 = tf.ragged.constant([\n",
        "      encode_sentence(s, tokenizer)\n",
        "      for s in np.array(glue_dict[\"sentence1\"])])\n",
        "  sentence2 = tf.ragged.constant([\n",
        "      encode_sentence(s, tokenizer)\n",
        "       for s in np.array(glue_dict[\"sentence2\"])])\n",
        "\n",
        "  cls = [tokenizer.convert_tokens_to_ids(['[CLS]'])]*sentence1.shape[0]\n",
        "  input_word_ids = tf.concat([cls, sentence1, sentence2], axis=-1)\n",
        "\n",
        "  input_mask = tf.ones_like(input_word_ids).to_tensor()\n",
        "\n",
        "  type_cls = tf.zeros_like(cls)\n",
        "  type_s1 = tf.zeros_like(sentence1)\n",
        "  type_s2 = tf.ones_like(sentence2)\n",
        "  input_type_ids = tf.concat(\n",
        "      [type_cls, type_s1, type_s2], axis=-1).to_tensor()\n",
        "\n",
        "  inputs = {\n",
        "      'input_word_ids': input_word_ids.to_tensor(),\n",
        "      'input_mask': input_mask,\n",
        "      'input_type_ids': input_type_ids}\n",
        "\n",
        "  return inputs\n"
      ],
      "metadata": {
        "id": "MMTGjrPZ6HCW"
      },
      "execution_count": null,
      "outputs": []
    },
    {
      "cell_type": "markdown",
      "source": [
        "We can now apply the bert_encode function to the training, validation, and testing sets to complete pre-processing."
      ],
      "metadata": {
        "id": "pBhg4GmG8ngZ"
      }
    },
    {
      "cell_type": "code",
      "source": [
        "glue_train = bert_encode(glue['train'], tokenizer)\n",
        "glue_train_labels = glue['train']['label']\n",
        "\n",
        "glue_validation = bert_encode(glue['validation'], tokenizer)\n",
        "glue_validation_labels = glue['validation']['label']\n",
        "\n",
        "glue_test = bert_encode(glue['test'], tokenizer)"
      ],
      "metadata": {
        "id": "1QLOEirV6QEp"
      },
      "execution_count": null,
      "outputs": []
    },
    {
      "cell_type": "markdown",
      "source": [
        "Below we that the shapes of the training input are all the same (3668 sentence pairs x 103 tokens) except for the labels."
      ],
      "metadata": {
        "id": "HdmNyW4X8zQt"
      }
    },
    {
      "cell_type": "code",
      "source": [
        "for key, value in glue_train.items():\n",
        "  print(f'{key:15s} shape: {value.shape}')\n",
        "\n",
        "print(f'glue_train_labels shape: {glue_train_labels.shape}')"
      ],
      "metadata": {
        "colab": {
          "base_uri": "https://localhost:8080/"
        },
        "id": "0pcfb5D06XsU",
        "outputId": "c4dcba32-5936-4246-9fe8-6959397a4f6f"
      },
      "execution_count": null,
      "outputs": [
        {
          "output_type": "stream",
          "name": "stdout",
          "text": [
            "input_word_ids  shape: (3668, 103)\n",
            "input_mask      shape: (3668, 103)\n",
            "input_type_ids  shape: (3668, 103)\n",
            "glue_train_labels shape: (3668,)\n"
          ]
        }
      ]
    },
    {
      "cell_type": "markdown",
      "source": [
        "## Fine-tuning BERT"
      ],
      "metadata": {
        "id": "rkyrPYTWK39w"
      }
    },
    {
      "cell_type": "markdown",
      "source": [
        "BERT stands for Bidirectional Encoder Representations from Transformers. It is an improvement over RNN and LSTM models as it processes words simultaneously using transformers making it faster. It also is truly bidirectional making it easier to learn the context of words. The pre-trained BERT model is made to understand language and context and therefore can be fine-tuned rather easily for a number of different language tasks. In this case, I am fine-tuning it to evaluate the semantic similarity of sentence pairs."
      ],
      "metadata": {
        "id": "Hh5v6IZ80wik"
      }
    },
    {
      "cell_type": "markdown",
      "source": [
        "Here we download the configuration for the BERT model. We can also look at the details of the BERT configuration that we will fine-tine. For example, the model contains 12 hidden layers, a hidden size of 768, and 12 attention heads."
      ],
      "metadata": {
        "id": "E2pzSHMoQ9hm"
      }
    },
    {
      "cell_type": "code",
      "source": [
        "import json\n",
        "\n",
        "bert_config_file = os.path.join(gs_folder_bert, \"bert_config.json\")\n",
        "config_dict = json.loads(tf.io.gfile.GFile(bert_config_file).read())\n",
        "\n",
        "bert_config = bert.configs.BertConfig.from_dict(config_dict)\n",
        "\n",
        "config_dict"
      ],
      "metadata": {
        "colab": {
          "base_uri": "https://localhost:8080/"
        },
        "id": "gBx9nbnW6a6a",
        "outputId": "2da53e2a-03e9-4a6f-e521-42f77d09f53d"
      },
      "execution_count": null,
      "outputs": [
        {
          "output_type": "execute_result",
          "data": {
            "text/plain": [
              "{'attention_probs_dropout_prob': 0.1,\n",
              " 'hidden_act': 'gelu',\n",
              " 'hidden_dropout_prob': 0.1,\n",
              " 'hidden_size': 768,\n",
              " 'initializer_range': 0.02,\n",
              " 'intermediate_size': 3072,\n",
              " 'max_position_embeddings': 512,\n",
              " 'num_attention_heads': 12,\n",
              " 'num_hidden_layers': 12,\n",
              " 'type_vocab_size': 2,\n",
              " 'vocab_size': 30522}"
            ]
          },
          "metadata": {},
          "execution_count": 25
        }
      ]
    },
    {
      "cell_type": "markdown",
      "source": [
        "Getting both the encoder and the classifier."
      ],
      "metadata": {
        "id": "WKEaSP7vWfEu"
      }
    },
    {
      "cell_type": "code",
      "source": [
        "bert_classifier, bert_encoder = bert.bert_models.classifier_model(\n",
        "    bert_config, num_labels=2)"
      ],
      "metadata": {
        "id": "kW-IWQde6enW"
      },
      "execution_count": null,
      "outputs": []
    },
    {
      "cell_type": "markdown",
      "source": [
        "Here we see the architecture of the classifier which takes three inputs into the BERT encoder. The input_word_ids are the sentence pairs that are encoded, concatenated, and zero-padded. The input_mask allows the model to differentiate between the content and the padding. The input_type_ids indicate which sentence the token is a part of.\n",
        "\n",
        "The BERT encoder feeds into a dropout layer and then finally into binary classification layers."
      ],
      "metadata": {
        "id": "YIcSAmz1Wkyi"
      }
    },
    {
      "cell_type": "code",
      "source": [
        "tf.keras.utils.plot_model(bert_classifier, show_shapes=True, dpi=48)"
      ],
      "metadata": {
        "colab": {
          "base_uri": "https://localhost:8080/",
          "height": 220
        },
        "id": "pMbaI6Aq699_",
        "outputId": "31ba7254-f3fb-40e3-cf9f-5571e912e1b9"
      },
      "execution_count": null,
      "outputs": [
        {
          "output_type": "execute_result",
          "data": {
            "image/png": "[encoded data removed]",
            "text/plain": [
              "<IPython.core.display.Image object>"
            ]
          },
          "metadata": {},
          "execution_count": 27
        }
      ]
    },
    {
      "cell_type": "markdown",
      "source": [
        "Below is an example of the output from the model which shows the values of the logit for each class."
      ],
      "metadata": {
        "id": "beklFN5saJIW"
      }
    },
    {
      "cell_type": "code",
      "source": [
        "glue_batch = {key: val[:10] for key, val in glue_train.items()}\n",
        "\n",
        "bert_classifier(\n",
        "    glue_batch, training=True\n",
        ").numpy()"
      ],
      "metadata": {
        "colab": {
          "base_uri": "https://localhost:8080/"
        },
        "id": "FN0gRwcR6_xQ",
        "outputId": "49c6cea2-d45d-40c9-8533-d71c0e93a7c6"
      },
      "execution_count": null,
      "outputs": [
        {
          "output_type": "execute_result",
          "data": {
            "text/plain": [
              "array([[-0.19089556,  0.10488638],\n",
              "       [-0.30230147,  0.08912799],\n",
              "       [-0.24913529, -0.06032073],\n",
              "       [-0.18892428,  0.00920337],\n",
              "       [-0.15200296, -0.31648016],\n",
              "       [-0.21627119,  0.02930921],\n",
              "       [-0.35321808, -0.20366102],\n",
              "       [-0.25105765, -0.09949163],\n",
              "       [-0.34699938, -0.02090511],\n",
              "       [-0.29710135, -0.0240919 ]], dtype=float32)"
            ]
          },
          "metadata": {},
          "execution_count": 28
        }
      ]
    },
    {
      "cell_type": "markdown",
      "source": [
        "Now we can look specifically at the architecture of the BERT encoder. It consists of 12 transformer hidden layers of size 768. The encoder is connected to the aforementioned three input layers."
      ],
      "metadata": {
        "id": "eh63JkfoapoV"
      }
    },
    {
      "cell_type": "code",
      "source": [
        "tf.keras.utils.plot_model(bert_encoder, show_shapes=True, dpi=48)"
      ],
      "metadata": {
        "colab": {
          "base_uri": "https://localhost:8080/",
          "height": 1000
        },
        "id": "poCjTzn77LH9",
        "outputId": "aa125b6e-3e97-44c0-f75e-9306f50e2333"
      },
      "execution_count": null,
      "outputs": [
        {
          "output_type": "execute_result",
          "data": {
            "image/png": "[encoded data removed]",
            "text/plain": [
              "<IPython.core.display.Image object>"
            ]
          },
          "metadata": {},
          "execution_count": 36
        }
      ]
    },
    {
      "cell_type": "markdown",
      "source": [
        "Restoring the trained weights for the encoder."
      ],
      "metadata": {
        "id": "XMMQzHRqoi85"
      }
    },
    {
      "cell_type": "code",
      "source": [
        "checkpoint = tf.train.Checkpoint(encoder=bert_encoder)\n",
        "checkpoint.read(\n",
        "    os.path.join(gs_folder_bert, 'bert_model.ckpt')).assert_consumed()"
      ],
      "metadata": {
        "colab": {
          "base_uri": "https://localhost:8080/"
        },
        "id": "R93JFRsI7Rij",
        "outputId": "9f914a14-edf5-4c48-d20e-a96921daea37"
      },
      "execution_count": null,
      "outputs": [
        {
          "output_type": "execute_result",
          "data": {
            "text/plain": [
              "<tensorflow.python.training.tracking.util.CheckpointLoadStatus at 0x7f18744c2250>"
            ]
          },
          "metadata": {},
          "execution_count": 37
        }
      ]
    },
    {
      "cell_type": "markdown",
      "source": [
        "Now we can set up the model training hyper-parameters. The model uses an Adam optimizer with weight decay.  Also the model is set to train for three epochs. Since the only layer that needs to be trained are the ouput layers, the training time should be relatively quick."
      ],
      "metadata": {
        "id": "8oXa5ARDopf4"
      }
    },
    {
      "cell_type": "code",
      "source": [
        "epochs = 3\n",
        "batch_size = 32\n",
        "eval_batch_size = 32\n",
        "\n",
        "train_data_size = len(glue_train_labels)\n",
        "steps_per_epoch = int(train_data_size / batch_size)\n",
        "num_train_steps = steps_per_epoch * epochs\n",
        "warmup_steps = int(epochs * train_data_size * 0.1 / batch_size)\n",
        "\n",
        "# creates an optimizer with learning rate schedule\n",
        "optimizer = nlp.optimization.create_optimizer(\n",
        "    2e-5, num_train_steps=num_train_steps, num_warmup_steps=warmup_steps)"
      ],
      "metadata": {
        "id": "8-Wv19Sz7gnb"
      },
      "execution_count": null,
      "outputs": []
    },
    {
      "cell_type": "code",
      "source": [
        "type(optimizer)"
      ],
      "metadata": {
        "colab": {
          "base_uri": "https://localhost:8080/"
        },
        "id": "zXW_tuqv7nsc",
        "outputId": "5f8a9e1e-a6d6-4bc0-94d2-6d1f0a44e179"
      },
      "execution_count": null,
      "outputs": [
        {
          "output_type": "execute_result",
          "data": {
            "text/plain": [
              "official.nlp.optimization.AdamWeightDecay"
            ]
          },
          "metadata": {},
          "execution_count": 33
        }
      ]
    },
    {
      "cell_type": "markdown",
      "source": [
        "When training we use the sparse categorical cross-entropy for the loss function."
      ],
      "metadata": {
        "id": "itAIpPQ_pBMW"
      }
    },
    {
      "cell_type": "code",
      "source": [
        "metrics = [tf.keras.metrics.SparseCategoricalAccuracy('accuracy', dtype=tf.float32)]\n",
        "loss = tf.keras.losses.SparseCategoricalCrossentropy(from_logits=True)\n",
        "\n",
        "bert_classifier.compile(\n",
        "    optimizer=optimizer,\n",
        "    loss=loss,\n",
        "    metrics=metrics)\n",
        "\n",
        "bert_classifier.fit(\n",
        "      glue_train, glue_train_labels,\n",
        "      validation_data=(glue_validation, glue_validation_labels),\n",
        "      batch_size=32,\n",
        "      epochs=epochs)\n"
      ],
      "metadata": {
        "colab": {
          "base_uri": "https://localhost:8080/"
        },
        "id": "zTxW1Lqr7uVQ",
        "outputId": "cec40e83-3055-4223-d0e3-c28d87533453"
      },
      "execution_count": null,
      "outputs": [
        {
          "output_type": "stream",
          "name": "stdout",
          "text": [
            "Epoch 1/3\n",
            "115/115 [==============================] - 65s 401ms/step - loss: 0.5838 - accuracy: 0.7067 - val_loss: 0.4872 - val_accuracy: 0.7745\n",
            "Epoch 2/3\n",
            "115/115 [==============================] - 44s 387ms/step - loss: 0.3879 - accuracy: 0.8321 - val_loss: 0.3887 - val_accuracy: 0.8162\n",
            "Epoch 3/3\n",
            "115/115 [==============================] - 44s 386ms/step - loss: 0.2517 - accuracy: 0.9065 - val_loss: 0.4010 - val_accuracy: 0.8260\n"
          ]
        },
        {
          "output_type": "execute_result",
          "data": {
            "text/plain": [
              "<keras.callbacks.History at 0x7ff5f1a22e50>"
            ]
          },
          "metadata": {},
          "execution_count": 34
        }
      ]
    },
    {
      "cell_type": "markdown",
      "source": [
        "I also wanted to experiment with reducing the learning rate and increasing the number of epochs to see if it improves the model accuracy."
      ],
      "metadata": {
        "id": "zPrLwf4vy22v"
      }
    },
    {
      "cell_type": "code",
      "source": [
        "epochs = 10\n",
        "batch_size = 32\n",
        "eval_batch_size = 32\n",
        "\n",
        "train_data_size = len(glue_train_labels)\n",
        "steps_per_epoch = int(train_data_size / batch_size)\n",
        "num_train_steps = steps_per_epoch * epochs\n",
        "warmup_steps = int(epochs * train_data_size * 0.1 / batch_size)\n",
        "\n",
        "# creates an optimizer with learning rate schedule\n",
        "optimizer = nlp.optimization.create_optimizer(\n",
        "    1e-5, num_train_steps=num_train_steps, num_warmup_steps=warmup_steps)"
      ],
      "metadata": {
        "id": "XTCITtDOwHUx"
      },
      "execution_count": null,
      "outputs": []
    },
    {
      "cell_type": "code",
      "source": [
        "metrics = [tf.keras.metrics.SparseCategoricalAccuracy('accuracy', dtype=tf.float32)]\n",
        "loss = tf.keras.losses.SparseCategoricalCrossentropy(from_logits=True)\n",
        "\n",
        "bert_classifier.compile(\n",
        "    optimizer=optimizer,\n",
        "    loss=loss,\n",
        "    metrics=metrics)\n",
        "\n",
        "history = bert_classifier.fit(\n",
        "      glue_train, glue_train_labels,\n",
        "      validation_data=(glue_validation, glue_validation_labels),\n",
        "      batch_size=32,\n",
        "      epochs=epochs)\n"
      ],
      "metadata": {
        "colab": {
          "base_uri": "https://localhost:8080/"
        },
        "id": "Opp8vmFdwRT8",
        "outputId": "ebe0df1d-7338-43dc-e7dd-109772cb3591"
      },
      "execution_count": null,
      "outputs": [
        {
          "output_type": "stream",
          "name": "stdout",
          "text": [
            "Epoch 1/10\n",
            "115/115 [==============================] - 61s 395ms/step - loss: 0.7183 - accuracy: 0.4926 - val_loss: 0.5763 - val_accuracy: 0.6912\n",
            "Epoch 2/10\n",
            "115/115 [==============================] - 44s 385ms/step - loss: 0.5318 - accuracy: 0.7266 - val_loss: 0.4987 - val_accuracy: 0.7770\n",
            "Epoch 3/10\n",
            "115/115 [==============================] - 45s 394ms/step - loss: 0.4161 - accuracy: 0.8100 - val_loss: 0.4640 - val_accuracy: 0.7794\n",
            "Epoch 4/10\n",
            "115/115 [==============================] - 44s 384ms/step - loss: 0.3150 - accuracy: 0.8735 - val_loss: 0.4600 - val_accuracy: 0.8088\n",
            "Epoch 5/10\n",
            "115/115 [==============================] - 44s 384ms/step - loss: 0.2411 - accuracy: 0.9111 - val_loss: 0.5192 - val_accuracy: 0.8235\n",
            "Epoch 6/10\n",
            "115/115 [==============================] - 44s 384ms/step - loss: 0.1886 - accuracy: 0.9378 - val_loss: 0.4710 - val_accuracy: 0.8260\n",
            "Epoch 7/10\n",
            "115/115 [==============================] - 44s 384ms/step - loss: 0.1465 - accuracy: 0.9550 - val_loss: 0.6452 - val_accuracy: 0.8137\n",
            "Epoch 8/10\n",
            "115/115 [==============================] - 44s 384ms/step - loss: 0.1226 - accuracy: 0.9607 - val_loss: 0.5671 - val_accuracy: 0.8186\n",
            "Epoch 9/10\n",
            "115/115 [==============================] - 44s 384ms/step - loss: 0.0979 - accuracy: 0.9730 - val_loss: 0.6410 - val_accuracy: 0.8186\n",
            "Epoch 10/10\n",
            "115/115 [==============================] - 44s 385ms/step - loss: 0.1008 - accuracy: 0.9700 - val_loss: 0.6434 - val_accuracy: 0.8162\n"
          ]
        }
      ]
    },
    {
      "cell_type": "markdown",
      "source": [
        "After decreasing the learning rate and increasing the number of epochs trained, the validation accuracy peaks around the same value as before (82%) and then begins to decline slightly while the training accuracy steadily increases."
      ],
      "metadata": {
        "id": "t0V-UBpUzPis"
      }
    },
    {
      "cell_type": "code",
      "source": [
        "plt.figure()\n",
        "plt.plot(history.history['accuracy'])\n",
        "plt.plot(history.history['val_accuracy'])\n",
        "plt.title('Model Accuracy')\n",
        "plt.ylabel('Accuracy')\n",
        "plt.xlabel('Epoch')\n",
        "plt.legend(['Training', 'Validation'], loc='lower right')\n",
        "plt.show()"
      ],
      "metadata": {
        "colab": {
          "base_uri": "https://localhost:8080/",
          "height": 295
        },
        "id": "VvkaGmBAzP2s",
        "outputId": "4e901a0f-3119-44ef-b4ee-cc02ffc43606"
      },
      "execution_count": null,
      "outputs": [
        {
          "output_type": "display_data",
          "data": {
            "image/png": "[encoded data removed]",
            "text/plain": [
              "<Figure size 432x288 with 1 Axes>"
            ]
          },
          "metadata": {
            "needs_background": "light"
          }
        }
      ]
    },
    {
      "cell_type": "markdown",
      "source": [
        "## Evaluating Performance"
      ],
      "metadata": {
        "id": "ZUYx03ptLElQ"
      }
    },
    {
      "cell_type": "markdown",
      "source": [
        "Before evaluating the test data I first wrote a few sentences pairs myself to see if the model could correctly classify them. The first two sentence pairs I made fairly easy while the second two pairs I tried to make a little more difficult. For sentence pair 3 I tried to convey the same sentiment while using mostly different words and in sentence pair 4 I tried to convey a different sentiment using the same words."
      ],
      "metadata": {
        "id": "VZbsXlN0px-F"
      }
    },
    {
      "cell_type": "code",
      "source": [
        "my_example = bert_encode(\n",
        "    glue_dict = {\n",
        "        'sentence1':[\n",
        "            'This sentence is written with the intention to match.',\n",
        "            'Fine-tuning BERT can allow you identify similar sentiments.',\n",
        "            'My dog ran away from me yesterday.',\n",
        "            'I had the best week of my life during third grade.'],\n",
        "        'sentence2':[\n",
        "            'I am aiming to match the sentiment in the other sentence.',\n",
        "            'This sentence has a different sentiment than the other sentence.',\n",
        "            'My canine escaped last night.',\n",
        "            'In third grade I tried to best myself week after week to no avail.']\n",
        "    },\n",
        "    tokenizer=tokenizer)"
      ],
      "metadata": {
        "id": "-q0rNiJA8cT6"
      },
      "execution_count": null,
      "outputs": []
    },
    {
      "cell_type": "markdown",
      "source": [
        "From my example sentences the model correctly classified 3 out of 4 sentences. The pair that is classified incorrectly was the fourth sentence pair where I tried to convey a different sentence using the same words. My guess is that it classified it incorrectly because the training data is taken from the news and none of the sentences are written with the intention of tricking an NLP model, therefore it may not perform well if people intentionally try to fool it."
      ],
      "metadata": {
        "id": "MVEL3INFrI4v"
      }
    },
    {
      "cell_type": "code",
      "source": [
        "result = bert_classifier.predict(my_example)\n",
        "result = tf.argmax(result, 1).numpy()\n",
        "print(result)"
      ],
      "metadata": {
        "colab": {
          "base_uri": "https://localhost:8080/"
        },
        "id": "cr7oS-uA8kFq",
        "outputId": "75e7096e-362c-43ad-ea50-7d1e0cc73508"
      },
      "execution_count": null,
      "outputs": [
        {
          "output_type": "stream",
          "name": "stdout",
          "text": [
            "[1 0 1 1]\n"
          ]
        }
      ]
    },
    {
      "cell_type": "code",
      "source": [
        "np.array(info.features['label'].names)[result]"
      ],
      "metadata": {
        "colab": {
          "base_uri": "https://localhost:8080/"
        },
        "id": "6l214qvWIxnB",
        "outputId": "f3595cb7-21bf-4896-b590-6c5b3d6801f0"
      },
      "execution_count": null,
      "outputs": [
        {
          "output_type": "execute_result",
          "data": {
            "text/plain": [
              "array(['equivalent', 'not_equivalent', 'equivalent'], dtype='<U14')"
            ]
          },
          "metadata": {},
          "execution_count": 123
        }
      ]
    },
    {
      "cell_type": "markdown",
      "source": [
        "The classification accuracy is 82.72%, however since this is binary classification looking at a confusion matrix would likely be a better indication of performance."
      ],
      "metadata": {
        "id": "vfeZR-vXsVH7"
      }
    },
    {
      "cell_type": "code",
      "source": [
        "bert_classifier.evaluate(glue_test, glue_test_labels)"
      ],
      "metadata": {
        "colab": {
          "base_uri": "https://localhost:8080/"
        },
        "id": "M9HAFCb-_U_b",
        "outputId": "15badbb4-fd51-4971-c2fd-08b9a5b5903e"
      },
      "execution_count": null,
      "outputs": [
        {
          "output_type": "stream",
          "name": "stdout",
          "text": [
            "54/54 [==============================] - 7s 128ms/step - loss: 0.4048 - accuracy: 0.8272\n"
          ]
        },
        {
          "output_type": "execute_result",
          "data": {
            "text/plain": [
              "[0.4048013687133789, 0.827246367931366]"
            ]
          },
          "metadata": {},
          "execution_count": 240
        }
      ]
    },
    {
      "cell_type": "markdown",
      "source": [
        "Here I get the vector of predictions."
      ],
      "metadata": {
        "id": "OL2EfHKKsn3e"
      }
    },
    {
      "cell_type": "code",
      "source": [
        "pred = bert_classifier.predict(glue_test)\n",
        "pred = tf.argmax(pred, 1)"
      ],
      "metadata": {
        "id": "81fQyU2EittL"
      },
      "execution_count": null,
      "outputs": []
    },
    {
      "cell_type": "markdown",
      "source": [
        "From the confusion matrix, we can see that approximately 67% (391/578) of the non-equivalent sentences were classified correctly while approximately 90% (1036/1147) of the equivalent sentences were classified correctly. This indicates that the model has a lot of room for improvement in classifying sentences that are not semantically equivalent. Perhaps training it on a dataset with a balanced number of labels would help."
      ],
      "metadata": {
        "id": "HWSeddPat6Yo"
      }
    },
    {
      "cell_type": "code",
      "source": [
        "tf.math.confusion_matrix(glue_test_labels, pred)"
      ],
      "metadata": {
        "colab": {
          "base_uri": "https://localhost:8080/"
        },
        "id": "k09sGFkHi2s_",
        "outputId": "3a49b3b6-35d4-4f1d-cf48-5e75b3f3631e"
      },
      "execution_count": null,
      "outputs": [
        {
          "output_type": "execute_result",
          "data": {
            "text/plain": [
              "<tf.Tensor: shape=(2, 2), dtype=int32, numpy=\n",
              "array([[ 391,  187],\n",
              "       [ 111, 1036]], dtype=int32)>"
            ]
          },
          "metadata": {},
          "execution_count": 245
        }
      ]
    },
    {
      "cell_type": "markdown",
      "source": [
        "## Summary"
      ],
      "metadata": {
        "id": "9QwIloHgvT5O"
      }
    },
    {
      "cell_type": "markdown",
      "source": [
        "While this model has some room for improvement, specifically in classifying sentences that are not equivalent, it is impressive that fine-tuning BERT reaches a relatively high level of accuracy on a new task in such a short amount of training time. The results from this model can also be compared to Johnny's results in training a version of ELECTRA on the same data.\n",
        "\n",
        "ELECTRA differs from BERT in that it corrupts input tokens with plausible alternatives rather than masking inputs. In general this process is more efficient and ELECTRA outperforms BERT on the GLUE natural language understanding benchmark. On the MRPC, I achieved an accuracy of 82.72% while ELECTRA recieved an accuracy of 93.9%. The improved performance is consistent with the GLUE score results discussed in the paper \"ELECTRA: Pre-training Text Encoders as Discriminators Rather Than Generators\".\n",
        "\n",
        "Although BERT does not perform as well as some of the architectures that come after it, I believe it is still useful to understand as a lot of the concepts in BERT are helpful in understanding the architectures that come out of it. It's performance also serves as a useful baseline to compare to the other architectures."
      ],
      "metadata": {
        "id": "qYrlRxOCzxqK"
      }
    }
  ]
}