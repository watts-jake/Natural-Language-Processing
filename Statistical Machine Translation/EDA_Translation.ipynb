{
  "nbformat": 4,
  "nbformat_minor": 0,
  "metadata": {
    "colab": {
      "name": "EDA_Translation.ipynb",
      "provenance": []
    },
    "kernelspec": {
      "name": "python3",
      "display_name": "Python 3"
    },
    "language_info": {
      "name": "python"
    }
  },
  "cells": [
    {
      "cell_type": "markdown",
      "source": [
        "# Exploratory Data Analysis + Statistical Machine Translation\n",
        "\n",
        "## Jake Watts"
      ],
      "metadata": {
        "id": "6a7CrCPoQi4Y"
      }
    },
    {
      "cell_type": "markdown",
      "source": [
        "For the first section of the report I preform exploratory data analysis on a data set containing paris of english and frnch sentences from the Tatoeba Project and downloaded from http://www.manythings.org/anki/. The dataset is limited to sentences that have been proofread and translated by native speakers however it is still possible that translation errors are present.\n",
        "\n",
        "After exploring the data, I build a Statistical Translation Machine using a bigram language model and IBM's model 1 as the translation model. I then evaluate the data by calculating BLEU scores. This model will be used as a baseline to compare to Neural Machine Translations as we wanted to start with simplest models to progress into more modern translation techniques.\n",
        "\n",
        "Sources:\n",
        "\n",
        "https://github.com/Santi-P/Alignment-Model-\n",
        "\n",
        "https://neptune.ai/blog/exploratory-data-analysis-natural-language-processing-tools\n",
        "\n",
        "http://mt-class.org/jhu/slides/lecture-ibm-model1.pdf\n",
        "\n",
        "https://github.com/PacktPublishing/Hands-On-Natural-Language-Processing-with-Python/blob/master/Chapter10/01_example.ipynb\n",
        "\n",
        "https://machinelearningmastery.com/calculate-bleu-score-for-text-python/"
      ],
      "metadata": {
        "id": "f09h2LKuQzvW"
      }
    },
    {
      "cell_type": "code",
      "source": [
        "import re\n",
        "import numpy\n",
        "import pickle\n",
        "import gzip\n",
        "import random\n",
        "import numpy as np\n",
        "import pandas as pd\n",
        "import matplotlib.pyplot as plt\n",
        "import seaborn as sns\n",
        "import tensorflow as tf\n",
        "from tensorflow import keras\n",
        "import nltk\n",
        "from nltk.translate.ibm1 import IBMModel1\n",
        "from nltk.translate.api import AlignedSent\n",
        "from collections import defaultdict\n",
        "from nltk.corpus import stopwords\n",
        "from nltk.util import ngrams\n",
        "from nltk.translate.bleu_score import corpus_bleu\n",
        "from nltk.translate.bleu_score import sentence_bleu\n",
        "from nltk.translate.bleu_score import SmoothingFunction\n",
        "from sklearn.feature_extraction.text import CountVectorizer\n",
        "from collections import Counter\n",
        "from sys import getsizeof"
      ],
      "metadata": {
        "id": "oIP_36FyyvSp"
      },
      "execution_count": 1,
      "outputs": []
    },
    {
      "cell_type": "markdown",
      "source": [
        "## Exploratory Data Analysis"
      ],
      "metadata": {
        "id": "Yjhg35VZUEWZ"
      }
    },
    {
      "cell_type": "markdown",
      "source": [
        "In this portion of the report I process and explore the data."
      ],
      "metadata": {
        "id": "_pbAc3gDlhUk"
      }
    },
    {
      "cell_type": "markdown",
      "source": [
        "Loading dataset"
      ],
      "metadata": {
        "id": "579DktP9T_rZ"
      }
    },
    {
      "cell_type": "code",
      "source": [
        "!! curl -O http://www.manythings.org/anki/fra-eng.zip\n",
        "!! unzip fra-eng.zip"
      ],
      "metadata": {
        "colab": {
          "base_uri": "https://localhost:8080/"
        },
        "id": "o9XhFW44y2jz",
        "outputId": "ca78f806-1727-41c7-e01a-8df1e1b7a9f0"
      },
      "execution_count": 2,
      "outputs": [
        {
          "output_type": "execute_result",
          "data": {
            "text/plain": [
              "['Archive:  fra-eng.zip',\n",
              " '  inflating: _about.txt              ',\n",
              " '  inflating: fra.txt                 ']"
            ]
          },
          "metadata": {},
          "execution_count": 2
        }
      ]
    },
    {
      "cell_type": "markdown",
      "source": [
        "Cleaning text file to remove unwanted text"
      ],
      "metadata": {
        "id": "v_5k9TVeWUR3"
      }
    },
    {
      "cell_type": "code",
      "source": [
        "data_path = \"fra.txt\"\n",
        "e_f = open('e_f.txt', 'w')\n",
        "\n",
        "with open('fra.txt', \"r\", encoding=\"utf-8\") as f:\n",
        "    lines = f.read().split(\"\\n\")\n",
        "for line in lines[:len(lines) - 1]:\n",
        "    input_text, target_text, _ = line.split(\"\\t\")\n",
        "    output = target_text + \"\\t\" + input_text + '\\n'\n",
        "    e_f.write(output)"
      ],
      "metadata": {
        "id": "UKzHO_ko4ytT"
      },
      "execution_count": 8,
      "outputs": []
    },
    {
      "cell_type": "markdown",
      "source": [
        "Shuffling observations and splitting text into train and test. The training data consists of 153,873 sentences or approximately 80% of the data."
      ],
      "metadata": {
        "id": "7Qeq6EqUWuLW"
      }
    },
    {
      "cell_type": "code",
      "source": [
        "lines = open('e_f.txt').readlines()\n",
        "random.seed(10)\n",
        "random.shuffle(lines)\n",
        "split = int(round(len(lines)* .8, 0))\n",
        "print(split)\n",
        "\n",
        "open('e_f.txt', 'w').writelines(lines)\n",
        "open('train.txt', 'w').writelines(lines[:split])\n",
        "open('test.txt', 'w').writelines(lines[split:])"
      ],
      "metadata": {
        "colab": {
          "base_uri": "https://localhost:8080/"
        },
        "id": "kq_XgJtfV7WD",
        "outputId": "7bde789a-4f9f-42f1-885a-46fa61dfe971"
      },
      "execution_count": 9,
      "outputs": [
        {
          "output_type": "stream",
          "name": "stdout",
          "text": [
            "153873\n"
          ]
        }
      ]
    },
    {
      "cell_type": "markdown",
      "source": [
        "Transforming data from text to vector format."
      ],
      "metadata": {
        "id": "sNd4x72yhRYh"
      }
    },
    {
      "cell_type": "code",
      "source": [
        "input_texts = []\n",
        "target_texts = []\n",
        "\n",
        "with open('e_f.txt', \"r\", encoding=\"utf-8\") as f:\n",
        "    lines = f.read().split(\"\\n\")\n",
        "for line in lines[:len(lines) - 1]:\n",
        "    target_text, input_text = line.split(\"\\t\")\n",
        "    input_texts.append(input_text)\n",
        "    target_texts.append(target_text)"
      ],
      "metadata": {
        "id": "JT3LeVQjWRMC"
      },
      "execution_count": 5,
      "outputs": []
    },
    {
      "cell_type": "code",
      "source": [
        "train_eng, train_fre = input_texts[:split], target_texts[:split]\n",
        "test_eng, test_fre = input_texts[split:], target_texts[split:]"
      ],
      "metadata": {
        "id": "eKYAjlWaZ3OY"
      },
      "execution_count": 6,
      "outputs": []
    },
    {
      "cell_type": "markdown",
      "source": [
        "The input language for the model will be English and the target language will be French."
      ],
      "metadata": {
        "id": "nHbhM-rThk22"
      }
    },
    {
      "cell_type": "code",
      "source": [
        "print(\"Input text:\", train_eng[0], \"\\nTarget Text:\", train_fre[0])"
      ],
      "metadata": {
        "colab": {
          "base_uri": "https://localhost:8080/"
        },
        "id": "9CQoOdkRXWoE",
        "outputId": "2b40d2a9-32b1-4e24-f2f7-2767513ce28a"
      },
      "execution_count": null,
      "outputs": [
        {
          "output_type": "stream",
          "name": "stdout",
          "text": [
            "Input text: Do you understand me? \n",
            "Target Text: Vous me comprenez ?\n"
          ]
        }
      ]
    },
    {
      "cell_type": "markdown",
      "source": [
        "Splitting the sentences into lists."
      ],
      "metadata": {
        "id": "ojRBL7prh5-O"
      }
    },
    {
      "cell_type": "code",
      "source": [
        "def read_sents(vec):\n",
        "    sents = []\n",
        "    for v in vec:\n",
        "      sents.append(v.split())\n",
        "    return sents\n",
        "\n",
        "train_eng_split, train_fre_split = read_sents(train_eng), read_sents(train_fre)\n",
        "test_eng_split, test_fre_split = read_sents(test_eng), read_sents(test_fre)"
      ],
      "metadata": {
        "id": "wGJq_ZdzAtea"
      },
      "execution_count": 7,
      "outputs": []
    },
    {
      "cell_type": "code",
      "source": [
        "flat_list = []\n",
        "for sublist in train_eng_split:\n",
        "    for item in sublist:\n",
        "        flat_list.append(item)"
      ],
      "metadata": {
        "id": "Cz3-uCwGj0rA"
      },
      "execution_count": null,
      "outputs": []
    },
    {
      "cell_type": "code",
      "source": [
        "df = pd.DataFrame(list(zip(train_eng, train_fre)),\n",
        "               columns =['English', 'French'])"
      ],
      "metadata": {
        "id": "agCPBHXUk8WK"
      },
      "execution_count": null,
      "outputs": []
    },
    {
      "cell_type": "markdown",
      "source": [
        "Looking at the characters per sentence we can see that the english and french sentences share a similar distribution that is right-skewed. Most sentences are between 0 and 50 words while a small amount are around 300 in both english and french."
      ],
      "metadata": {
        "id": "6_0c0jifq2uc"
      }
    },
    {
      "cell_type": "code",
      "source": [
        "x = df['English'].str.len() \n",
        "y = df['French'].str.len() \n",
        "\n",
        "figure = plt.figure(figsize=(15, 5))\n",
        "\n",
        "figure.add_subplot(1, 2, 1) \n",
        "plt.hist(x, bins=20)\n",
        "plt.title('English')\n",
        "\n",
        "figure.add_subplot(1, 2, 2)\n",
        "plt.hist(y, bins=20)\n",
        "plt.title('French')\n",
        "\n",
        "figure.suptitle('Characters per Sentence', fontsize=14)\n",
        "\n",
        "plt.show()"
      ],
      "metadata": {
        "colab": {
          "base_uri": "https://localhost:8080/",
          "height": 356
        },
        "id": "n6mM3DazrZ3i",
        "outputId": "5d9c2d08-62ec-497c-9af8-980b2aa201e3"
      },
      "execution_count": null,
      "outputs": [
        {
          "output_type": "display_data",
          "data": {
            "image/png": "[encoded data removed]",
            "text/plain": [
              "<Figure size 1080x360 with 2 Axes>"
            ]
          },
          "metadata": {
            "needs_background": "light"
          }
        }
      ]
    },
    {
      "cell_type": "markdown",
      "source": [
        "From the graph of words per sentence the distributions are similar, however french sentences tend to have slightly more words per sentence than english words. This could effect translation as it could mean that some pairs of words in french could translate to a single word in english."
      ],
      "metadata": {
        "id": "e8FLKhKtvfY1"
      }
    },
    {
      "cell_type": "code",
      "source": [
        "x = df['English'].str.split().\\\n",
        "    map(lambda x: len(x))\n",
        "y = df['French'].str.split().\\\n",
        "    map(lambda x: len(x))\n",
        "\n",
        "figure = plt.figure(figsize=(15, 5))\n",
        "\n",
        "figure.add_subplot(1, 2, 1) \n",
        "plt.hist(x, bins=20)\n",
        "plt.title('English')\n",
        "\n",
        "figure.add_subplot(1, 2, 2)\n",
        "plt.hist(y, bins=20)\n",
        "plt.title('French')\n",
        "\n",
        "figure.suptitle('Word Count per Sentence', fontsize=14)\n",
        "\n",
        "plt.show()"
      ],
      "metadata": {
        "colab": {
          "base_uri": "https://localhost:8080/",
          "height": 356
        },
        "id": "vDkE9FYBuPCe",
        "outputId": "6312e552-4840-4f72-8778-dac88cabaefc"
      },
      "execution_count": null,
      "outputs": [
        {
          "output_type": "display_data",
          "data": {
            "image/png": "[encoded data removed]",
            "text/plain": [
              "<Figure size 1080x360 with 2 Axes>"
            ]
          },
          "metadata": {
            "needs_background": "light"
          }
        }
      ]
    },
    {
      "cell_type": "markdown",
      "source": [
        "The average word size per sentence between english and french are very similar as well. The graph also appears to be right-skewed. Most sentenctes have an average word size of 4-5 characters."
      ],
      "metadata": {
        "id": "7Yi2HsAdtsKE"
      }
    },
    {
      "cell_type": "code",
      "source": [
        "x = df['English'].str.split().\\\n",
        "   apply(lambda x : [len(i) for i in x]). \\\n",
        "   map(lambda x: np.mean(x))\n",
        "\n",
        "y = x = df['French'].str.split().\\\n",
        "   apply(lambda x : [len(i) for i in x]). \\\n",
        "   map(lambda x: np.mean(x))\n",
        "\n",
        "figure = plt.figure(figsize=(15, 5))\n",
        "\n",
        "figure.add_subplot(1, 2, 1) \n",
        "plt.hist(x)\n",
        "plt.title('English')\n",
        "\n",
        "figure.add_subplot(1, 2, 2)\n",
        "plt.hist(y)\n",
        "plt.title('French')\n",
        "\n",
        "figure.suptitle('Average Word Size per Sentence', fontsize=14)\n",
        "\n",
        "plt.show()"
      ],
      "metadata": {
        "colab": {
          "base_uri": "https://localhost:8080/",
          "height": 356
        },
        "id": "kaoO1GBKsndc",
        "outputId": "72894a12-0cb2-4a16-aed4-4f77aacd0719"
      },
      "execution_count": null,
      "outputs": [
        {
          "output_type": "display_data",
          "data": {
            "image/png": "[encoded data removed]",
            "text/plain": [
              "<Figure size 1080x360 with 2 Axes>"
            ]
          },
          "metadata": {
            "needs_background": "light"
          }
        }
      ]
    },
    {
      "cell_type": "markdown",
      "source": [
        "Next we can look at the most common stop words. First I will get a list of english and french stop words from nltk."
      ],
      "metadata": {
        "id": "jIKAiVyrwLPY"
      }
    },
    {
      "cell_type": "code",
      "source": [
        "nltk.download('stopwords')\n",
        "stop_en = set(stopwords.words('english'))\n",
        "stop_fr = set(stopwords.words('french'))"
      ],
      "metadata": {
        "colab": {
          "base_uri": "https://localhost:8080/"
        },
        "id": "Th4pDXtTv_x1",
        "outputId": "91801770-2939-4e7f-d861-50cb87e5942b"
      },
      "execution_count": null,
      "outputs": [
        {
          "output_type": "stream",
          "name": "stdout",
          "text": [
            "[nltk_data] Downloading package stopwords to /root/nltk_data...\n",
            "[nltk_data]   Package stopwords is already up-to-date!\n"
          ]
        }
      ]
    },
    {
      "cell_type": "markdown",
      "source": [
        "Counting the most common stop words in each language."
      ],
      "metadata": {
        "id": "9G-Wspix1Okz"
      }
    },
    {
      "cell_type": "code",
      "source": [
        "corpus_en, corpus_fr = [], []\n",
        "corpus_en, corpus_fr = [word for i in train_eng_split for word in i], [word for i in train_fre_split for word in i],\n",
        "\n",
        "from collections import defaultdict\n",
        "dic = defaultdict(int)\n",
        "for word in corpus_en:\n",
        "    if word in stop_en:\n",
        "        dic[word]+=1\n",
        "\n",
        "dic2 = defaultdict(int)\n",
        "for word in corpus_fr:\n",
        "    if word in stop_fr:\n",
        "        dic2[word]+=1"
      ],
      "metadata": {
        "id": "7_cmoHuZxswe"
      },
      "execution_count": null,
      "outputs": []
    },
    {
      "cell_type": "markdown",
      "source": [
        "Looking at the most common stop words in english we can see that the top three are \"to', \"you\" and \"the\". The tope three in french are \"de\", \"pas\" and \"que\". I do not know french but looking up these words shows that they are defined as \"of\", \"not\" and \"that\". It is interesting that the most common stop words used do not necassarily correspond and I imagine that this will add some diffuclty for translation."
      ],
      "metadata": {
        "id": "cekg8TvG0kBv"
      }
    },
    {
      "cell_type": "code",
      "source": [
        "figure = plt.figure(figsize=(15, 5))\n",
        "\n",
        "figure.add_subplot(1, 2, 1) \n",
        "top = sorted(dic.items(), key=lambda x:x[1],reverse=True)[:10] \n",
        "x, y = zip(*top)\n",
        "plt.bar(x, y)\n",
        "plt.title('English')\n",
        "\n",
        "\n",
        "figure.add_subplot(1, 2, 2)\n",
        "top = sorted(dic2.items(), key=lambda x:x[1],reverse=True)[:10] \n",
        "x, y = zip(*top)\n",
        "plt.bar(x, y)\n",
        "plt.title('French')\n",
        "\n",
        "figure.suptitle('Most Common Stopwords', fontsize=14)\n",
        "plt.show()"
      ],
      "metadata": {
        "colab": {
          "base_uri": "https://localhost:8080/",
          "height": 356
        },
        "id": "78SZbqUezXo_",
        "outputId": "af7a9b58-0cad-43e9-e67c-6994fe40eaa5"
      },
      "execution_count": null,
      "outputs": [
        {
          "output_type": "display_data",
          "data": {
            "image/png": "[encoded data removed]",
            "text/plain": [
              "<Figure size 1080x360 with 2 Axes>"
            ]
          },
          "metadata": {
            "needs_background": "light"
          }
        }
      ]
    },
    {
      "cell_type": "markdown",
      "source": [
        "Looking at the most common words used in English other than stop words we can see that the most popular words is a name \"Tom\" which would be the same in english and french. And it is also the most popular word in french. Other words included are contractions that I might consider stop words. \"Think\", \"want\" and \"know\" seem to be the common words that are not contractions or stop words."
      ],
      "metadata": {
        "id": "FmNHY90x3WRz"
      }
    },
    {
      "cell_type": "code",
      "source": [
        "counter = Counter(corpus_en)\n",
        "most=counter.most_common()\n",
        "\n",
        "x, y= [], []\n",
        "for word, count in most[:40]:\n",
        "    if (re.sub(r'[^\\w\\s]', '', word.lower()) not in stop_en):\n",
        "        x.append(word)\n",
        "        y.append(count)\n",
        "        \n",
        "sns.barplot(x=y,y=x).set(title='Most Common Words')"
      ],
      "metadata": {
        "colab": {
          "base_uri": "https://localhost:8080/",
          "height": 298
        },
        "id": "JLejFkuJ1jrg",
        "outputId": "36a78a6c-1164-4827-8f18-5c6b90e46b87"
      },
      "execution_count": null,
      "outputs": [
        {
          "output_type": "execute_result",
          "data": {
            "text/plain": [
              "[Text(0.5, 1.0, 'Most Common Words')]"
            ]
          },
          "metadata": {},
          "execution_count": 192
        },
        {
          "output_type": "display_data",
          "data": {
            "image/png": "[encoded data removed]",
            "text/plain": [
              "<Figure size 432x288 with 1 Axes>"
            ]
          },
          "metadata": {
            "needs_background": "light"
          }
        }
      ]
    },
    {
      "cell_type": "markdown",
      "source": [
        "Finally I wanted to explore  bigrams as they are used in the language modeling portion of the statistical machine translation model. Here I define a function to find the top bigrams. Which is a list of two words that appear next to eachother in a sentence."
      ],
      "metadata": {
        "id": "BaE5QMYd4hdC"
      }
    },
    {
      "cell_type": "code",
      "source": [
        "def get_top_ngram(corpus, n=None):\n",
        "    vec = CountVectorizer(ngram_range=(n, n)).fit(corpus)\n",
        "    bag_of_words = vec.transform(corpus)\n",
        "    sum_words = bag_of_words.sum(axis=0) \n",
        "    words_freq = [(word, sum_words[0, idx]) \n",
        "                  for word, idx in vec.vocabulary_.items()]\n",
        "    words_freq =sorted(words_freq, key = lambda x: x[1], reverse=True)\n",
        "    return words_freq[:10]"
      ],
      "metadata": {
        "id": "F-js39rT4W_G"
      },
      "execution_count": null,
      "outputs": []
    },
    {
      "cell_type": "markdown",
      "source": [
        "The most popular bigrams in english do not necassarily correspond to the most popular in french. For example, \"je ne is the most popular in french but it translates to \"I do not\" which would be three words in english. \"Je suis\" is also popular in french which translates to \"I am\" which would be a bigram in english, however it is not one of the most popular english bigrams. This demonstrates that some phrases may just be used with different frequency in other languages even when conveying the same meaning."
      ],
      "metadata": {
        "id": "ywmIbqMj6efL"
      }
    },
    {
      "cell_type": "code",
      "source": [
        "top_n_bigrams = get_top_ngram(df[\"English\"] ,2)[:10] \n",
        "x, y = map(list,zip(*top_n_bigrams)) \n",
        "sns.barplot(x=y,y=x).set(title='Most Common English Bigrams')"
      ],
      "metadata": {
        "colab": {
          "base_uri": "https://localhost:8080/",
          "height": 298
        },
        "id": "Ig3TocLv5JUC",
        "outputId": "54a33548-287a-4715-98de-0d6856f779c9"
      },
      "execution_count": null,
      "outputs": [
        {
          "output_type": "execute_result",
          "data": {
            "text/plain": [
              "[Text(0.5, 1.0, 'Most Common English Bigrams')]"
            ]
          },
          "metadata": {},
          "execution_count": 195
        },
        {
          "output_type": "display_data",
          "data": {
            "image/png": "[encoded data removed]",
            "text/plain": [
              "<Figure size 432x288 with 1 Axes>"
            ]
          },
          "metadata": {
            "needs_background": "light"
          }
        }
      ]
    },
    {
      "cell_type": "code",
      "source": [
        "top_n_bigrams = get_top_ngram(df[\"French\"] ,2)[:10] \n",
        "x, y = map(list,zip(*top_n_bigrams)) \n",
        "sns.barplot(x=y,y=x).set(title='Most Common French Bigrams')"
      ],
      "metadata": {
        "colab": {
          "base_uri": "https://localhost:8080/",
          "height": 298
        },
        "id": "o_E5qwqK6JCU",
        "outputId": "af15d7fe-39c1-49d9-e6d5-2997d8bc88b9"
      },
      "execution_count": null,
      "outputs": [
        {
          "output_type": "execute_result",
          "data": {
            "text/plain": [
              "[Text(0.5, 1.0, 'Most Common French Bigrams')]"
            ]
          },
          "metadata": {},
          "execution_count": 194
        },
        {
          "output_type": "display_data",
          "data": {
            "image/png": "[encoded data removed]",
            "text/plain": [
              "<Figure size 432x288 with 1 Axes>"
            ]
          },
          "metadata": {
            "needs_background": "light"
          }
        }
      ]
    },
    {
      "cell_type": "markdown",
      "source": [
        "## Statistical Machine Translation (English ⇒ French)"
      ],
      "metadata": {
        "id": "_mK6iqjElBVs"
      }
    },
    {
      "cell_type": "markdown",
      "source": [
        "In this portion of the notebook I implement the noisy channel model for statistical machine translation. The noisy channel model includes both a language model and a probability model. The language model assigns probabilities to words in the target language and is constructed, in this case, from a bigram language model trained from large corpus in the target language. The translation model assigns a probability of the input language given the target language. The model for the report uses an implementation of IBM's model 1. The final output of the model is given by finding the sentence that maximizes the product of the probability given by the language model and the translation model.\n",
        "\n",
        "Below is the function for the N-gram model. Which is used to calculate the probability of words occuring in the target language."
      ],
      "metadata": {
        "id": "Pe9wIUkw_XNu"
      }
    },
    {
      "cell_type": "code",
      "source": [
        "class Ngrams:\n",
        "\t\"\"\" Naive Interpolated Bigram Language Model\n",
        "\t\tcontains minimal features and smoothed by interpolating\n",
        "\t\twith unigrams and small unknown word number. Can take \n",
        "\t\tunformatted text files. e.g the brown corpus provided. \n",
        "    \"\"\"\n",
        "\tdef __init__(self,fname):\n",
        "\t\tself.lang_mod, self.uni = self.ngrams(fname)\n",
        "\n",
        "\n",
        "\tdef ngrams(self, fname):\n",
        "\t\t\"\"\" main language model builder\"\"\"\n",
        "\t\ttext = []\n",
        "\t\twith open(fname,\"r\") as f:\n",
        "\t\t\tfor line in f:\n",
        "\t\t\t\ttext.extend(line.split())\n",
        "\t\tuni = Counter(text)\n",
        "\t\tbigram = zip(text, text[1:])\n",
        "\t\tlm = Counter(bigram)\n",
        "\t\t#lm = Counter(bigram)\n",
        "\t\t#print(lm[\"there\",\"is\"])\n",
        "\t\tprint(\"normalizing language model\")\n",
        "\n",
        "\t\tsum_uni = sum(uni.values())\n",
        "\t\tfor key,val in lm.items():\n",
        "\t\t\tw1,w2 = key\n",
        "\t\t\tlm[w1,w2] = val/uni[w1]\n",
        "\t\tfor w in uni.keys():\n",
        "\t\t\tuni[w] /= sum_uni\n",
        "\n",
        "\n",
        "\t\treturn lm, uni\n",
        "\n",
        "\n",
        "\n",
        "\tdef get_prob(self,w1, w2, unigram_weight = 0.1):\n",
        "\t\t\"\"\" get interpolated probability \"\"\"\n",
        "\t\t# prev word not found\n",
        "\t\tunknown_weight = 0.00000000000000001\n",
        "\n",
        "\t\tbigram_weight = 1 - unigram_weight - unknown_weight\n",
        "\t\tbigram_prob = 0.0\n",
        "\t\tunigram_prob = 0.0\n",
        "\t\tif self.lang_mod.get((w1,w2)) != None:\n",
        "\t\t\tbigram_prob = self.lang_mod[w1,w2]\n",
        "\t\t\t\n",
        "\t\tif self.uni.get(w2) != None:\n",
        "\t\t\tunigram_prob = self.uni[w2]\n",
        "\t\t\n",
        "\t\t\n",
        "\t\treturn bigram_weight * bigram_prob + unigram_weight * unigram_prob  + unknown_weight"
      ],
      "metadata": {
        "id": "CenzuYf_lTrM"
      },
      "execution_count": 13,
      "outputs": []
    },
    {
      "cell_type": "markdown",
      "source": [
        "Below are a collection of functions used to create the language model, which is an implementation of IBM model 1. I altered the original code from github to translate from english to french rather than french to english. For the bigram language model I used a french corpus taken from Project Gutenburg (https://www.gutenberg.org/files/16887/16887-0.txt)."
      ],
      "metadata": {
        "id": "TcDppc1XEcvZ"
      }
    },
    {
      "cell_type": "code",
      "source": [
        "class AlignmentModel:\n",
        "\t\"\"\" Implementation of IBM Model 1. Uses EM to learn lexical/alighment\n",
        "\t probabilities. Language model is included to turn this into a noisy-channel\n",
        "\t model. A simple decode algorithm is used. External scripts for evaluation\n",
        "\t Per convention, variables with e mark target language and f for source, or\n",
        "\t noisy model \"\"\"\n",
        "\tdef __init__(self):\n",
        "\n",
        "\t\t# Vocabulary indices\n",
        "\t\tself.__e_vocab = dict()\n",
        "\t\tself.__f_vocab = dict()\n",
        "\t\t# inverse mapping of the above\n",
        "\t\tself.ind2word_f = dict()\n",
        "\t\tself.ind2word_e = dict()\n",
        "\n",
        "\t\t# main lexical alignment weights \n",
        "\t\tself.trans_prob =[]\n",
        "\n",
        "\t\t# sentinels for keeping \n",
        "\t\tself.__num_e = int()\n",
        "\t\tself.__num_f = int()\n",
        "\n",
        "\t\t# \n",
        "\t\tself.data_type = numpy.float16\n",
        "\t\tself.lang_mod = []\n",
        "\n",
        "\t\tself.punct_filter =re.compile(r'[^\\w]')\n",
        "\n",
        "\tdef build_save_lm(self,fname):\n",
        "\t\t\"\"\" builds N-gram language model and dumps to binary \"\"\"\n",
        "\t\twith open(fname,\"wb\") as langfile:\n",
        "\t\t\tself.lang_mod =  Ngrams(\"fr.txt\")\n",
        "\t\t\tpickle.dump(self.lang_mod, langfile)\n",
        "\t\t\n",
        "\tdef load_lm(self,fname):\n",
        "\t\t\"\"\" loads N-gram language model from binary file\"\"\"\n",
        "\t\tprint(\"loading language model\")\n",
        "\t\twith open(fname,\"rb\") as langfile:\n",
        "\t\t\tself.lang_mod = pickle.load(langfile) \n",
        "\n",
        "\tdef translate_sentence(self, in_sent):\n",
        "\t\t\"\"\" translates sentence by simply replacing words \"\"\"\n",
        "\t\tin_sent = in_sent.split()\n",
        "\t\treturn \" \".join([self.translate_word(w) for w in in_sent])\n",
        "\n",
        "\n",
        "\n",
        "\tdef decode(self, in_sent):\n",
        "\t\t\"\"\" A naive noisy channel decoder\n",
        "\t\t\tfetches a few candidate translations for a target word\n",
        "\t\t\tselects the word which has the\n",
        "\t\t\t highest probability given previous word. \n",
        "\t\t\t This can be highly improved upon by using a variation of the viterbi algorithm\n",
        "\t\t\t e.g viterbi with beamsearch.\n",
        "\t\t\t takes sentence string as argument and returns translated sentence as string \n",
        "\t\t\t  \"\"\"\n",
        "\t\t#print(\"translating :\", in_sent)\n",
        "\t\tin_sent = (self.punct_filter.sub(' ',in_sent)).lower()\n",
        "\t\tin_sent = in_sent.split()\n",
        "\t\tif len(in_sent) < 2:\n",
        "\t\t\tif len(in_sent) > 0:\n",
        "\t\t\t\treturn self.translate_word(in_sent[0])\n",
        "\t\t\telse:\n",
        "\t\t\t\treturn \"\"\n",
        "\t\tresults = [self.translate_word(in_sent[0])]\n",
        "\t\t# go through words in sentence\n",
        "\t\tfor i in range(1,len(in_sent)):\n",
        "\t\t\tprev_word = results[i-1]\n",
        "\t\t\tcurr_word = in_sent[i]\n",
        "\t\t\t# get 10 candidate translations\n",
        "\t\t\t# this number can be varied\n",
        "\n",
        "\t\t\tcandidates, scores = self.get_n_best(curr_word,5)\n",
        "\t\t\t# candidate with highest probability\n",
        "\t\t\ttmp_cand = [self.lang_mod.get_prob(prev_word,w)*score for w,score in zip(candidates,scores)]\n",
        "\t\t\tenum = list(enumerate(tmp_cand))\n",
        "\n",
        "\t\t\tbest = max(enum, key = lambda x: x[1])[0]\n",
        "\n",
        "\t\t\tresults.append(candidates[best])\n",
        "\n",
        "\t\treturn \" \".join(results)\n",
        "\n",
        "\tdef lazy_reader(self, fname):\n",
        "\t\t\"\"\" A corpus iterator. Takes a tsv file\n",
        "\t\t\tin the form \n",
        "\t\t\tFRENCH SENTENCE 1 <TAB>  ENGLISH SENTENCE 1\n",
        "\t\t\tFRENCH SENTENCE 2 <TAB>  ENGLISH SENTENCE 2\n",
        "\t\t\tperforms minimal tokenization and sets all the words to lowercase\n",
        "\t\t\t\"\"\"\n",
        "\t\t# native e to f translation\n",
        "\t\twith open(fname,\"r\") as f:\n",
        "\t\t\tpattern = re.compile(r'[^\\w]')\n",
        "\t\t\tfor line in f:\n",
        "\t\t\t\t# verify input later\n",
        "\t\t\t\tforeign , native= line.split(\"\\t\")\n",
        "\n",
        "\t\t\t\tnative = (pattern.sub(' ',native)).lower()\n",
        "\t\t\t\tforeign = (pattern.sub(' ',foreign)).lower() \n",
        "\t\t\t\tyield  native.strip().split(), foreign.strip().split()\n",
        "\n",
        "\n",
        "\tdef trans_prob_getter(self, e_word, f_word):\n",
        "\t\t\"\"\" getter for translation probability\"\"\"\n",
        "\t\tind_e = self.__e_vocab[e_word]\n",
        "\t\tind_f = self.__f_vocab[f_word]\n",
        "\t\treturn self.trans_prob[ind_e][ind_f], ind_e, ind_f\n",
        "\t\n",
        "\t# f to e  \n",
        "\n",
        "\tdef get_max(self,word):\n",
        "\t\t\"\"\" get the best translation of word\"\"\"\n",
        "\t\ttry:\n",
        "\t\t\tind = self.__e_vocab[word]\n",
        "\t\texcept KeyError:\n",
        "\t\t\tprint(\"word not found\")\n",
        "\t\t\treturn 0\n",
        "\t\tres = numpy.argmax(self.trans_prob[ind])\n",
        "\t\treturn res\n",
        "\t\n",
        "\tdef get_n_best(self,word, n = 10):\n",
        "\t\t\"\"\" get k best for a given target word\"\"\"\n",
        "\t\t# argpartition used to avoid sorting the whole array\n",
        "\t\t# this approach is O(n) worst case\n",
        "\t\ttry: \n",
        "\t\t\tind = self.__e_vocab[word]\n",
        "\t\texcept KeyError:\n",
        "\t\t\tind = 0\n",
        "\t\t\t#raise(ValueError(\"unknown vocabulary\"))\n",
        "\t\tres = numpy.argpartition(self.trans_prob[ind],-n)\n",
        "\t\tscores = [self.trans_prob[ind][s] for s in res[-n:]]\n",
        "\t\treturn [self.ind2word_f[word] for word in res[-n:]], scores\n",
        "\n",
        "\tdef translate_word(self,word):\n",
        "\t\tind_of_best = self.get_max(word)\n",
        "\t\treturn self.ind2word_f[ind_of_best]\n",
        "\n",
        "\t# e to f\n",
        "\n",
        "\t### wrapper functions but for the other way around\n",
        "\n",
        "\tdef get_max_e(self,word):\n",
        "\t\tind = self.__f_vocab[word]\n",
        "\t\tres = numpy.argmax(self.trans_prob.T[ind])\n",
        "\t\treturn res\n",
        "\t\n",
        "\tdef get_n_best_e(self,word, n = 10):\n",
        "\t\t# argpartition used to avoid sorting the whole array\n",
        "\t\t# this approach is O(n) worst case\n",
        "\n",
        "\t\tind = self.__f_vocab[word]\n",
        "\t\tres = numpy.argpartition(self.trans_prob.T[ind],-n)\n",
        "\t\treturn [self.ind2word_f[word] for word in res[-n:]]\n",
        "\n",
        "\n",
        "\n",
        "\tdef translate_word_e(self,word):\n",
        "\t\tind_of_best = self.get_max_e(word)\n",
        "\t\treturn self.ind2word_e[ind_of_best]\n",
        "\n",
        "\n",
        "\t\n",
        "\tdef save_weights(self, tm_fname, idx_fname):\n",
        "\t\t\"\"\" dumps translation probabilities and \n",
        "\t\tindices into two files\"\"\"\n",
        "\t\twith open(tm_fname, \"wb\") as w_file:\n",
        "\t\t\tnumpy.save(w_file, self.trans_prob)\n",
        "\t\twith open(idx_fname, \"wb\") as idx_file:\n",
        "\t\t\tpickle.dump((self.ind2word_e, self.ind2word_f, self.__e_vocab, self.__f_vocab),idx_file)\n",
        "\n",
        "\tdef load_weights(self, tm_fname, idx_fname):\n",
        "\t\t\"\"\" loads translation probabilities and \n",
        "\t\t\tindices from two files\"\"\"\n",
        "\n",
        "\t\twith open(tm_fname, \"rb\") as w_file:\n",
        "\t\t\tself.trans_prob = numpy.load(w_file)\n",
        "\n",
        "\t\twith open(idx_fname, \"rb\") as idx_file:\n",
        "\t\t\tself.ind2word_e, self.ind2word_f, self.__e_vocab, self.__f_vocab = pickle.load(idx_file)\n",
        "\n",
        "\tdef train(self, fname, iterations = 3, debug = False):\n",
        "\t\t\"\"\" IBM Model 1 alignment model. Trains lexical alignments using\n",
        "\t\texpectation maxization. Faithful implementation of the pseudo-code as seen \n",
        "\t\tin the slides from P. Koehn\n",
        "\t\t\n",
        "\t\tThis algorithm converges very quickly (2-3 iterations). This can use up a lot of memory. To \n",
        "\t\tsolve this I recommend using half-precision floats (np.float16). This takes 1/4 less memory compared\n",
        "\t\tto numpy default doubles. There is a trade off in terms of speed but it is relative negligeble. \n",
        "\t\tThe debug option prints the sum of the element-wise difference between previous iterations.\n",
        "\t\tThe smaller the better. \n",
        "\t\t\n",
        "\t\t\"\"\"\n",
        "\t\t# train t(f|e ) or corpus\n",
        "\t\t# collect counts and build array\n",
        "\t\tcount_e_words = 0\n",
        "\t\tcount_f_words = 0\n",
        "\n",
        "\t\tfor e_sent, f_sent in self.lazy_reader(fname):\n",
        "\t\t\tfor e_token in e_sent:\n",
        "\t\t\t\tif self.__e_vocab.get(e_token) == None:\n",
        "\t\t\t\t\tself.__e_vocab[e_token] = count_e_words\n",
        "\t\t\t\t\tself.ind2word_e[count_e_words] = e_token\n",
        "\t\t\t\t\tcount_e_words += 1\n",
        "\n",
        "\t\t\tfor f_token in f_sent:\n",
        "\t\t\t\tif self.__f_vocab.get(f_token) == None:\n",
        "\t\t\t\t\tself.__f_vocab[f_token] = count_f_words\n",
        "\t\t\t\t\tself.ind2word_f[count_f_words] = f_token\n",
        "\t\t\t\t\tcount_f_words += 1\n",
        "\n",
        "\t\tuniform = 1 / (count_e_words + count_f_words -2 )\n",
        "\t\tdimensions = (count_e_words, count_f_words)\n",
        "\n",
        "\t\tprint(count_e_words)\n",
        "\t\tprint(count_f_words)\n",
        "\t\tself.trans_prob = numpy.full(dimensions, uniform, dtype=self.data_type)\n",
        "\t\t\n",
        "\n",
        "\t\tfor it in range(iterations):\n",
        "\t\t\tprint(\"starting iteration: \", it)\n",
        "\t\t\tcount_ef = numpy.zeros(dimensions, dtype=self.data_type)\n",
        "\t\t\ttotal_f = numpy.zeros((dimensions[1],), dtype=self.data_type)\n",
        "\n",
        "\t\t\tfor e_sent, f_sent in self.lazy_reader(fname):                \n",
        "\t\t\t\tsent_total = {e : 0 for e in set(e_sent)}\n",
        "\t\t\t\tfor e_token in e_sent:\n",
        "\t\t\t\t\tfor f_token in f_sent:\n",
        "\t\t\t\t\t\tsent_total[e_token] += self.trans_prob_getter(e_token,f_token)[0]\n",
        "\n",
        "\t\t\t\tfor e_token in e_sent:\n",
        "\t\t\t\t\tfor f_token in f_sent:\n",
        "\t\t\t\t\t\t#ind_e = self.__e_vocab[e_token]\n",
        "\t\t\t\t\t\t#ind_f = self.__f_vocab[f_token]\n",
        "\n",
        "\t\t\t\t\t\ttp, ind_e, ind_f =  self.trans_prob_getter(e_token,f_token)\n",
        "\t\t\t\t\t\tval = tp / sent_total[e_token]\n",
        "\t\t\t\t\t\tcount_ef[ind_e][ind_f] += val\n",
        "\t\t\t\t\t\ttotal_f[ind_f] += val \n",
        "\n",
        "\t\t\tprint(\"normalizing\")\n",
        "\t\t\tif debug:\n",
        "\t\t\t\tprint(\"convergence\")\n",
        "\t\t\t\tprint(numpy.abs(numpy.sum(self.trans_prob - count_ef / total_f ,dtype = self.data_type)))\n",
        "\t\t\tself.trans_prob = count_ef / total_f\n",
        "\n",
        "\t\t\t\n",
        "\tdef translate_all(self,fname, print_out = False):\n",
        "\t\t\"\"\" translates all sentences in a given file\"\"\"\n",
        "\t\tresults = []\n",
        "\t\twith open(fname,\"r\") as f:\n",
        "\t\t\tfor line in f:\n",
        "\t\t\t\ttranslation = self.decode(line)\n",
        "\t\t\t\tif print_out:\n",
        "\t\t\t\t\tprint(translation)\n",
        "\t\t\t\tresults.append(translation)\n",
        "\t\treturn results\n",
        "\n",
        "\tdef verify(self):\n",
        "\t\t\"\"\" debugging function for checking translation probabilities\n",
        "\t\t\tby summing up the rows and checking if equal to 1\n",
        "\t\t\tusing half-precision floats often causes\n",
        "\t\t\ta lot of rows to not add up to 1 correctly.\n",
        "\t\t\tIn practice this doesn't make that big of a difference\"\"\"\n",
        "\t\twidth, length = self.trans_prob.shape\n",
        "\t\tprint(width,length)\n",
        "\t\t\n",
        "\t\tfor i in numpy.sum(self.trans_prob,dtype=self.data_type,axis=0):\n",
        "\t\t\t#if not numpy.isclose(i,1.0,rtol=1e-2):\n",
        "\t\t\tprint(i)"
      ],
      "metadata": {
        "id": "DQnWwL09zJs8"
      },
      "execution_count": 11,
      "outputs": []
    },
    {
      "cell_type": "markdown",
      "source": [
        "Training model"
      ],
      "metadata": {
        "id": "IX-Yu8q17DX2"
      }
    },
    {
      "cell_type": "code",
      "source": [
        "model_1 = AlignmentModel()\n",
        "model_1.build_save_lm(\"langmod_fr\")\n",
        "model_1.train(\"train.txt\",iterations = 3)"
      ],
      "metadata": {
        "colab": {
          "base_uri": "https://localhost:8080/"
        },
        "id": "_q7cGMGJ3Ewb",
        "outputId": "abb37740-8058-4742-c08b-3d6e8d6dd3c1"
      },
      "execution_count": 14,
      "outputs": [
        {
          "output_type": "stream",
          "name": "stdout",
          "text": [
            "normalizing language model\n",
            "14322\n",
            "23745\n",
            "starting iteration:  0\n",
            "normalizing\n",
            "starting iteration:  1\n",
            "normalizing\n",
            "starting iteration:  2\n",
            "normalizing\n"
          ]
        }
      ]
    },
    {
      "cell_type": "markdown",
      "source": [
        "## BLEU Scores"
      ],
      "metadata": {
        "id": "VIJ6p_fxnR4i"
      }
    },
    {
      "cell_type": "markdown",
      "source": [
        "The BLEU (BiLingual Evaluation Understudy) score is a method for evaluating the quality of a machine translation text. Classifying the quality of a translation is not an objective measure since there are multiple valid ways to translate most sentences. BLEU scores serve as a way to interpret translation performance by comparing the actual translation or mutliple valid translations to the machine translation and assigning a score from 0 to 1 to rate the translation, 1 being the best. 1-gram scores compare the words in the translation while bigrams compare pairs of words while n-gram compares groups of n-words. In this report we weight n-grams 1-4 equally to calculate our score."
      ],
      "metadata": {
        "id": "xSGGzu70Cn9u"
      }
    },
    {
      "cell_type": "markdown",
      "source": [
        "Looking at translation it appears that the model is able to correctly translate some words in the sentence but often the meaning is not fully conveyed. For example the first example sentence is \"we want a complete evaluation\". However the french translation is \"nous veux de compléter actifs\" which roughly means \"\n",
        "we want to complete assets\" which contains some of the right words but does share the same meaning. Overall most BLEU scores are equal to 0 while there are a few better translations equal to 0.19. WThe BLEU scores would be more accurate if I had more reference translations to use, since sentences can often be translated in more than one valid ways. However, the overall low scores indicate that there is a lot of room for improvement with this model."
      ],
      "metadata": {
        "id": "pJA_X7uv7gJs"
      }
    },
    {
      "cell_type": "code",
      "source": [
        "smoothie = SmoothingFunction().method4\n",
        "\n",
        "for i in range(20):\n",
        "  translation = model_1.decode(test_eng[i])\n",
        "  score = sentence_bleu(test_fre_split[i], translation.split(), weights=(0.25, 0.25, 0.25, 0.25), smoothing_function=smoothie)\n",
        "  print('TEXT: ', test_eng[i], '\\nACTUAL:', test_fre[i], '\\nPREDICTED:', translation)\n",
        "  print('BLEU SCORE:', str(score), \"\\n\")"
      ],
      "metadata": {
        "colab": {
          "base_uri": "https://localhost:8080/"
        },
        "id": "rktcuSGz5Rq8",
        "outputId": "5fcf74a8-cd24-4ee5-801c-cbdfb0c9a394"
      },
      "execution_count": 17,
      "outputs": [
        {
          "output_type": "stream",
          "name": "stdout",
          "text": [
            "TEXT:  We want a complete evaluation. \n",
            "ACTUAL: Nous voulons une évaluation complète. \n",
            "PREDICTED: nous veux de compléter actifs\n",
            "BLEU SCORE: 0 \n",
            "\n",
            "TEXT:  Your answer was wrong. \n",
            "ACTUAL: Ta réponse était fausse. \n",
            "PREDICTED: votre réponse était tort\n",
            "BLEU SCORE: 0 \n",
            "\n",
            "TEXT:  I don't see how I can help you. \n",
            "ACTUAL: Je ne vois pas comment je peux vous aider. \n",
            "PREDICTED: j pas de voir comment que peuvent aider vous\n",
            "BLEU SCORE: 0.1969244213551724 \n",
            "\n",
            "TEXT:  Tom is passionate. \n",
            "ACTUAL: Tom est passionné. \n",
            "PREDICTED: tom est passionne\n",
            "BLEU SCORE: 0 \n",
            "\n",
            "TEXT:  Women age faster than men. \n",
            "ACTUAL: Les femmes vieillissent plus vite que les hommes. \n",
            "PREDICTED: femmes âge vite que hommes\n",
            "BLEU SCORE: 0 \n",
            "\n",
            "TEXT:  What would your father think? \n",
            "ACTUAL: Que penserait ton père ? \n",
            "PREDICTED: quelles ferait votre père pense\n",
            "BLEU SCORE: 0 \n",
            "\n",
            "TEXT:  What is a think tank? \n",
            "ACTUAL: Qu'est un cercle de réflexion ? \n",
            "PREDICTED: quelles est un pense réservoir\n",
            "BLEU SCORE: 0 \n",
            "\n",
            "TEXT:  I don't think I'll ever get used to this. \n",
            "ACTUAL: Je pense ne jamais m’y habituer. \n",
            "PREDICTED: j pas de pense que je archéologie obtenir habitués à ce\n",
            "BLEU SCORE: 0.1940679506664638 \n",
            "\n",
            "TEXT:  Please come to my house. \n",
            "ACTUAL: Venez chez moi, je vous prie. \n",
            "PREDICTED: veuillez venir de mon demeure\n",
            "BLEU SCORE: 0 \n",
            "\n",
            "TEXT:  Tom's fat, isn't he? \n",
            "ACTUAL: Tom est gros, n'est-ce pas ? \n",
            "PREDICTED: tom de grossir subjective de de\n",
            "BLEU SCORE: 0 \n",
            "\n",
            "TEXT:  I have homework. \n",
            "ACTUAL: J'ai des devoirs. \n",
            "PREDICTED: j de devoir\n",
            "BLEU SCORE: 0 \n",
            "\n",
            "TEXT:  I like stories. \n",
            "ACTUAL: J'aime les récits. \n",
            "PREDICTED: j aiment génies\n",
            "BLEU SCORE: 0 \n",
            "\n",
            "TEXT:  Maybe Tom was the one who stole Mary's necklace. \n",
            "ACTUAL: Peut-être est-ce Tom qui a volé le collier de Mary. \n",
            "PREDICTED: peut est était le celle qui vola mary de perles\n",
            "BLEU SCORE: 0 \n",
            "\n",
            "TEXT:  I am 19 years old. \n",
            "ACTUAL: J'ai 19 ans. \n",
            "PREDICTED: j basque covid ans vieux\n",
            "BLEU SCORE: 0 \n",
            "\n",
            "TEXT:  I thought they'd heard us. \n",
            "ACTUAL: J'ai pensé qu'elles nous avaient entendus. \n",
            "PREDICTED: j pensé ont ferions entendu nous\n",
            "BLEU SCORE: 0 \n",
            "\n",
            "TEXT:  I talked to her. \n",
            "ACTUAL: Je lui ai parlé. \n",
            "PREDICTED: j entretenus de rencontrée\n",
            "BLEU SCORE: 0 \n",
            "\n",
            "TEXT:  How many concerts did you go to last year? \n",
            "ACTUAL: À combien de concerts t'es-tu rendue l'année dernière ? \n",
            "PREDICTED: comment multiples concerts fait vous rendre à dernier an\n",
            "BLEU SCORE: 0 \n",
            "\n",
            "TEXT:  The history of France is very interesting. \n",
            "ACTUAL: L'histoire de la France est très intéressante. \n",
            "PREDICTED: la antécédents de franchi est fort intéressantes\n",
            "BLEU SCORE: 0 \n",
            "\n",
            "TEXT:  I'd better go to bed now. \n",
            "ACTUAL: Je ferais mieux d'aller au lit maintenant. \n",
            "PREDICTED: j ferions mieux rendre à lit désormais\n",
            "BLEU SCORE: 0 \n",
            "\n",
            "TEXT:  A plane is flying above the city. \n",
            "ACTUAL: Un avion vole au-dessus de la ville. \n",
            "PREDICTED: une secousse est cime surtout le citadine\n",
            "BLEU SCORE: 0 \n",
            "\n"
          ]
        }
      ]
    },
    {
      "cell_type": "markdown",
      "source": [
        "# Summary\n",
        "\n",
        "Overall this statistical machine translation model was a good place to start with machine translation as the method of translation is rather simple to understand and implement. The model performance overall definitely needs improvement. While sometimes the general idea of the sentence carries through in the translation, the majority of translation have awkward syntax and appear more as a jumble of words with a few key translated phrases rather than a coherent sentence.\n",
        "\n",
        "This model also serves as a baseline for the models in the next portions of the report which perform better and use more sophisticated techniques such as a Naive RNN and Encoder-Decoder with GRU trained on the same French-English data. I anticipate that these models will easily outperform the noisy-channel model.\n"
      ],
      "metadata": {
        "id": "j28rAju1nWpq"
      }
    }
  ]
}