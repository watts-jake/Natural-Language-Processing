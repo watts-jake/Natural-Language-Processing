{
  "nbformat": 4,
  "nbformat_minor": 0,
  "metadata": {
    "colab": {
      "name": "Sentiment_CNN.ipynb",
      "provenance": []
    },
    "kernelspec": {
      "name": "python3",
      "display_name": "Python 3"
    },
    "language_info": {
      "name": "python"
    },
    "accelerator": "GPU"
  },
  "cells": [
    {
      "cell_type": "markdown",
      "source": [
        "## Biweekly Report 1\n",
        "\n",
        "## Sentiment Classification with Convolutional Neural Networks\n",
        "\n",
        "## Jake Watts"
      ],
      "metadata": {
        "id": "kKc94DXV3eJN"
      }
    },
    {
      "cell_type": "markdown",
      "source": [
        "In this section of the report I define a CNN and use train it with the Sentiment Treebank data to classify sentences from movie reviews as either positive or negative. Creating the model was done with the help of the following tutorial https://towardsdatascience.com/cnn-sentiment-analysis-1d16b7c5a0e7.\n",
        "\n",
        "In the model I also use a pre-trained word2vec model from google news for an embedding layer of the CNN."
      ],
      "metadata": {
        "id": "t-Q3Gs7C3p5a"
      }
    },
    {
      "cell_type": "code",
      "source": [
        "import math\n",
        "import numpy as np\n",
        "import pandas as pd\n",
        "from gensim import models\n",
        "import matplotlib.pyplot as plt\n",
        "from keras.callbacks import ModelCheckpoint\n",
        "from keras.layers import Dense, Dropout, Reshape, Flatten, concatenate, Input, Conv1D, GlobalMaxPooling1D, Embedding\n",
        "from keras.layers.recurrent import LSTM\n",
        "from keras.models import Sequential\n",
        "from keras.preprocessing.text import Tokenizer\n",
        "from keras.preprocessing.sequence import pad_sequences\n",
        "from keras.models import Model"
      ],
      "metadata": {
        "id": "sL5r4q_njBdG"
      },
      "execution_count": 6,
      "outputs": []
    },
    {
      "cell_type": "markdown",
      "source": [
        "Mounting my Google Drive and loading the pre-processed data."
      ],
      "metadata": {
        "id": "SpdPqt3F4E7-"
      }
    },
    {
      "cell_type": "code",
      "source": [
        "from google.colab import drive\n",
        "drive.mount('/content/drive')"
      ],
      "metadata": {
        "id": "nZQu74Jhlpbl",
        "colab": {
          "base_uri": "https://localhost:8080/"
        },
        "outputId": "d57ebfc4-faf0-45f1-b750-a49b7c1b03df"
      },
      "execution_count": 2,
      "outputs": [
        {
          "output_type": "stream",
          "name": "stdout",
          "text": [
            "Mounted at /content/drive\n"
          ]
        }
      ]
    },
    {
      "cell_type": "code",
      "source": [
        "df_train = pd.read_pickle('/content/drive/My Drive/df_train.pkl')\n",
        "df_test = pd.read_pickle('/content/drive/My Drive/df_test.pkl')"
      ],
      "metadata": {
        "id": "huTQlDRCsUnI"
      },
      "execution_count": 3,
      "outputs": []
    },
    {
      "cell_type": "markdown",
      "source": [
        "Downloading the google news vector. It took a while to figure out to do this, edning up finding this solution on StackOverflow. I also planned to compare the performance of this word2vec model with Gregor's word2vec model when used in the CNN, however we ran out of time to implement it for this week's report."
      ],
      "metadata": {
        "id": "TFcAIaiA4Luq"
      }
    },
    {
      "cell_type": "code",
      "source": [
        "!brew install wget\n",
        "\n",
        "!wget -c \"https://s3.amazonaws.com/dl4j-distribution/GoogleNews-vectors-negative300.bin.gz\""
      ],
      "metadata": {
        "colab": {
          "base_uri": "https://localhost:8080/"
        },
        "id": "ASwe66QrmyRZ",
        "outputId": "4b513d5d-1f2f-4f96-a95d-5611c4c52ea3"
      },
      "execution_count": null,
      "outputs": [
        {
          "output_type": "stream",
          "name": "stdout",
          "text": [
            "/bin/bash: brew: command not found\n",
            "--2022-01-24 01:02:43--  https://s3.amazonaws.com/dl4j-distribution/GoogleNews-vectors-negative300.bin.gz\n",
            "Resolving s3.amazonaws.com (s3.amazonaws.com)... 52.216.169.77\n",
            "Connecting to s3.amazonaws.com (s3.amazonaws.com)|52.216.169.77|:443... connected.\n",
            "HTTP request sent, awaiting response... 200 OK\n",
            "Length: 1647046227 (1.5G) [application/x-gzip]\n",
            "Saving to: ‘GoogleNews-vectors-negative300.bin.gz’\n",
            "\n",
            "GoogleNews-vectors- 100%[===================>]   1.53G  34.7MB/s    in 75s     \n",
            "\n",
            "2022-01-24 01:03:58 (21.0 MB/s) - ‘GoogleNews-vectors-negative300.bin.gz’ saved [1647046227/1647046227]\n",
            "\n"
          ]
        }
      ]
    },
    {
      "cell_type": "code",
      "source": [
        "!gzip -d GoogleNews-vectors-negative300.bin.gz"
      ],
      "metadata": {
        "id": "1_93Sk-EnZaQ"
      },
      "execution_count": null,
      "outputs": []
    },
    {
      "cell_type": "code",
      "source": [
        "word2vec_path = \"https://s3.amazonaws.com/dl4j-distribution/GoogleNews-vectors-negative300.bin.gz\"\n",
        "word2vec = models.KeyedVectors.load_word2vec_format(word2vec_path, binary=True)"
      ],
      "metadata": {
        "id": "Uu8nqnTfkkS0"
      },
      "execution_count": 4,
      "outputs": []
    },
    {
      "cell_type": "markdown",
      "source": [
        "Getting training sentence lengths and training vocab."
      ],
      "metadata": {
        "id": "S1u2Uq1582jU"
      }
    },
    {
      "cell_type": "code",
      "source": [
        "all_training_words = [word for tokens in df_train[\"tokens\"] for word in tokens]\n",
        "training_sentence_lengths = [len(tokens) for tokens in df_train[\"tokens\"]]\n",
        "TRAINING_VOCAB = sorted(list(set(all_training_words)))"
      ],
      "metadata": {
        "id": "1jCSFEbKqImJ"
      },
      "execution_count": 9,
      "outputs": []
    },
    {
      "cell_type": "markdown",
      "source": [
        "Defining max sentence length and embedding dimensions."
      ],
      "metadata": {
        "id": "_TQ46r9c8_8Y"
      }
    },
    {
      "cell_type": "code",
      "source": [
        "MAX_SEQUENCE_LENGTH = 50\n",
        "EMBEDDING_DIM = 300"
      ],
      "metadata": {
        "id": "LIEg1Wkds9Jf"
      },
      "execution_count": 10,
      "outputs": []
    },
    {
      "cell_type": "markdown",
      "source": [
        "Assigning each word to an integer and padding vectors to a uniform length."
      ],
      "metadata": {
        "id": "AEH8-NMB96-G"
      }
    },
    {
      "cell_type": "code",
      "source": [
        "tokenizer = Tokenizer(num_words=len(TRAINING_VOCAB), lower=True, char_level=False)\n",
        "tokenizer.fit_on_texts(df_train[\"Text_Final\"].tolist())\n",
        "training_sequences = tokenizer.texts_to_sequences(df_train[\"Text_Final\"].tolist())\n",
        "train_word_index = tokenizer.word_index\n",
        "print('Found %s unique tokens.' % len(train_word_index))\n",
        "train_cnn_data = pad_sequences(training_sequences, \n",
        "                               maxlen=MAX_SEQUENCE_LENGTH)"
      ],
      "metadata": {
        "colab": {
          "base_uri": "https://localhost:8080/"
        },
        "id": "B04liPy_pqoz",
        "outputId": "bec09849-7ca3-4d27-ae18-eb0f696cc5f9"
      },
      "execution_count": 11,
      "outputs": [
        {
          "output_type": "stream",
          "name": "stdout",
          "text": [
            "Found 14584 unique tokens.\n"
          ]
        }
      ]
    },
    {
      "cell_type": "markdown",
      "source": [
        "Getting embedding from Google News model and saving embedding with words in the data."
      ],
      "metadata": {
        "id": "_gRMLyy2-Pcj"
      }
    },
    {
      "cell_type": "code",
      "source": [
        "train_embedding_weights = np.zeros((len(train_word_index)+1, \n",
        " EMBEDDING_DIM))\n",
        "for word,index in train_word_index.items():\n",
        " train_embedding_weights[index,:] = word2vec[word] if word in word2vec else np.random.rand(EMBEDDING_DIM)\n",
        "print(train_embedding_weights.shape)"
      ],
      "metadata": {
        "colab": {
          "base_uri": "https://localhost:8080/"
        },
        "id": "oLG2Wa0dtKUQ",
        "outputId": "b3a04f1f-ac10-42ec-e334-27db4b36c3f6"
      },
      "execution_count": 12,
      "outputs": [
        {
          "output_type": "stream",
          "name": "stdout",
          "text": [
            "(14585, 300)\n"
          ]
        }
      ]
    },
    {
      "cell_type": "markdown",
      "source": [
        "Pre-processing text data as well."
      ],
      "metadata": {
        "id": "I9mNex98-qBS"
      }
    },
    {
      "cell_type": "code",
      "source": [
        "test_sequences = tokenizer.texts_to_sequences(df_test[\"Text_Final\"].tolist())\n",
        "test_cnn_data = pad_sequences(test_sequences, maxlen=MAX_SEQUENCE_LENGTH)"
      ],
      "metadata": {
        "id": "T9u7ytPAwJCH"
      },
      "execution_count": 13,
      "outputs": []
    },
    {
      "cell_type": "markdown",
      "source": [
        "Here I define the architecture of the CNN. "
      ],
      "metadata": {
        "id": "15zF9Xoi-vQE"
      }
    },
    {
      "cell_type": "code",
      "source": [
        "def ConvNet(embeddings, max_sequence_length, num_words, embedding_dim, labels_index):\n",
        " \n",
        "    embedding_layer = Embedding(num_words,\n",
        "                            embedding_dim,\n",
        "                            weights=[embeddings],\n",
        "                            input_length=max_sequence_length,\n",
        "                            trainable=False)\n",
        "    \n",
        "    sequence_input = Input(shape=(max_sequence_length,), dtype='int32')\n",
        "    embedded_sequences = embedding_layer(sequence_input)\n",
        "    convs = []\n",
        "    filter_sizes = [2,3,4,5,6]\n",
        "    for filter_size in filter_sizes:\n",
        "        l_conv = Conv1D(filters=200, \n",
        "                        kernel_size=filter_size, \n",
        "                        activation='relu')(embedded_sequences)\n",
        "        l_pool = GlobalMaxPooling1D()(l_conv)\n",
        "        convs.append(l_pool)\n",
        "    l_merge = concatenate(convs, axis=1)\n",
        "    x = Dropout(0.1)(l_merge)  \n",
        "    x = Dense(128, activation='relu')(x)\n",
        "    x = Dropout(0.2)(x)\n",
        "    preds = Dense(labels_index, activation='sigmoid')(x)\n",
        "    model = Model(sequence_input, preds)\n",
        "    model.compile(loss='binary_crossentropy',\n",
        "                  optimizer='adam',\n",
        "                  metrics=['acc'])\n",
        "    model.summary()\n",
        "    return model"
      ],
      "metadata": {
        "id": "u-WkGdJdti42"
      },
      "execution_count": 14,
      "outputs": []
    },
    {
      "cell_type": "markdown",
      "source": [
        "Since the model uses a sigmoid activation function I also visuzlize it below. The sigmoid function is defined as $y = \\frac{1}{1+e^{-x}}$. As x increases it approaches one and as it decreases it approaches 0. "
      ],
      "metadata": {
        "id": "MW-f-o36NGVk"
      }
    },
    {
      "cell_type": "code",
      "source": [
        "def sigmoid(x):\n",
        "    a = []\n",
        "    for item in x:\n",
        "        a.append(1/(1+math.exp(-item)))\n",
        "    return a\n",
        "\n",
        "x = np.arange(-10., 10., 0.2)\n",
        "plt.plot(x,sigmoid(x))\n",
        "plt.title(\"Sigmoid Function\")\n",
        "plt.show()"
      ],
      "metadata": {
        "colab": {
          "base_uri": "https://localhost:8080/",
          "height": 281
        },
        "id": "VH8ARCkzNFE6",
        "outputId": "02d70bac-5ccf-468c-a840-d0205cbcc622"
      },
      "execution_count": 8,
      "outputs": [
        {
          "output_type": "display_data",
          "data": {
            "image/png": "[encoded data removed]",
            "text/plain": [
              "<Figure size 432x288 with 1 Axes>"
            ]
          },
          "metadata": {
            "needs_background": "light"
          }
        }
      ]
    },
    {
      "cell_type": "markdown",
      "source": [
        "Defining label names."
      ],
      "metadata": {
        "id": "7Adq7bHf-06-"
      }
    },
    {
      "cell_type": "code",
      "source": [
        "label_names = ['Pos', 'Neg']"
      ],
      "metadata": {
        "id": "VqzCY8TMuRt3"
      },
      "execution_count": 15,
      "outputs": []
    },
    {
      "cell_type": "markdown",
      "source": [
        "Defining model and displaying the model summary. There are 4 convolutional layers and 4 max pooling layers to reduce the size of data while still retaining the most prominent features. There are also two dense layers with two dropout layers to prevent overfitting."
      ],
      "metadata": {
        "id": "8wQIDGq_-3HD"
      }
    },
    {
      "cell_type": "code",
      "source": [
        "model = ConvNet(train_embedding_weights, \n",
        "                MAX_SEQUENCE_LENGTH, \n",
        "                len(train_word_index)+1, \n",
        "                EMBEDDING_DIM, \n",
        "                len(list(label_names)))"
      ],
      "metadata": {
        "colab": {
          "base_uri": "https://localhost:8080/"
        },
        "id": "_gu5S2iGuE0M",
        "outputId": "3d7b116d-a77a-4d61-d6a7-95e46f16d489"
      },
      "execution_count": 16,
      "outputs": [
        {
          "output_type": "stream",
          "name": "stdout",
          "text": [
            "Model: \"model\"\n",
            "__________________________________________________________________________________________________\n",
            " Layer (type)                   Output Shape         Param #     Connected to                     \n",
            "==================================================================================================\n",
            " input_1 (InputLayer)           [(None, 50)]         0           []                               \n",
            "                                                                                                  \n",
            " embedding (Embedding)          (None, 50, 300)      4375500     ['input_1[0][0]']                \n",
            "                                                                                                  \n",
            " conv1d (Conv1D)                (None, 49, 200)      120200      ['embedding[0][0]']              \n",
            "                                                                                                  \n",
            " conv1d_1 (Conv1D)              (None, 48, 200)      180200      ['embedding[0][0]']              \n",
            "                                                                                                  \n",
            " conv1d_2 (Conv1D)              (None, 47, 200)      240200      ['embedding[0][0]']              \n",
            "                                                                                                  \n",
            " conv1d_3 (Conv1D)              (None, 46, 200)      300200      ['embedding[0][0]']              \n",
            "                                                                                                  \n",
            " conv1d_4 (Conv1D)              (None, 45, 200)      360200      ['embedding[0][0]']              \n",
            "                                                                                                  \n",
            " global_max_pooling1d (GlobalMa  (None, 200)         0           ['conv1d[0][0]']                 \n",
            " xPooling1D)                                                                                      \n",
            "                                                                                                  \n",
            " global_max_pooling1d_1 (Global  (None, 200)         0           ['conv1d_1[0][0]']               \n",
            " MaxPooling1D)                                                                                    \n",
            "                                                                                                  \n",
            " global_max_pooling1d_2 (Global  (None, 200)         0           ['conv1d_2[0][0]']               \n",
            " MaxPooling1D)                                                                                    \n",
            "                                                                                                  \n",
            " global_max_pooling1d_3 (Global  (None, 200)         0           ['conv1d_3[0][0]']               \n",
            " MaxPooling1D)                                                                                    \n",
            "                                                                                                  \n",
            " global_max_pooling1d_4 (Global  (None, 200)         0           ['conv1d_4[0][0]']               \n",
            " MaxPooling1D)                                                                                    \n",
            "                                                                                                  \n",
            " concatenate (Concatenate)      (None, 1000)         0           ['global_max_pooling1d[0][0]',   \n",
            "                                                                  'global_max_pooling1d_1[0][0]', \n",
            "                                                                  'global_max_pooling1d_2[0][0]', \n",
            "                                                                  'global_max_pooling1d_3[0][0]', \n",
            "                                                                  'global_max_pooling1d_4[0][0]'] \n",
            "                                                                                                  \n",
            " dropout (Dropout)              (None, 1000)         0           ['concatenate[0][0]']            \n",
            "                                                                                                  \n",
            " dense (Dense)                  (None, 128)          128128      ['dropout[0][0]']                \n",
            "                                                                                                  \n",
            " dropout_1 (Dropout)            (None, 128)          0           ['dense[0][0]']                  \n",
            "                                                                                                  \n",
            " dense_1 (Dense)                (None, 2)            258         ['dropout_1[0][0]']              \n",
            "                                                                                                  \n",
            "==================================================================================================\n",
            "Total params: 5,704,886\n",
            "Trainable params: 1,329,386\n",
            "Non-trainable params: 4,375,500\n",
            "__________________________________________________________________________________________________\n"
          ]
        }
      ]
    },
    {
      "cell_type": "markdown",
      "source": [
        "Renaming data to x_train and y_train."
      ],
      "metadata": {
        "id": "WzddZkt3-9kS"
      }
    },
    {
      "cell_type": "code",
      "source": [
        "x_train = train_cnn_data\n",
        "y_train = df_train[label_names].values"
      ],
      "metadata": {
        "id": "1UYmfq8su4sY"
      },
      "execution_count": 17,
      "outputs": []
    },
    {
      "cell_type": "markdown",
      "source": [
        "Now we can train the model! From the the training steps we can see that the training accuracy increases a but faster than the validation accuracy."
      ],
      "metadata": {
        "id": "wC5rp8lk-81R"
      }
    },
    {
      "cell_type": "code",
      "source": [
        "num_epochs = 3\n",
        "batch_size = 32\n",
        "hist = model.fit(x_train, \n",
        "                 y_train, \n",
        "                 epochs=num_epochs, \n",
        "                 validation_split=0.1, \n",
        "                 shuffle=True, \n",
        "                 batch_size=batch_size)"
      ],
      "metadata": {
        "colab": {
          "base_uri": "https://localhost:8080/"
        },
        "id": "dI25qv4huX0Z",
        "outputId": "f7dc7b1a-c859-45f4-ec3e-cb6fb9b45e6e"
      },
      "execution_count": null,
      "outputs": [
        {
          "output_type": "stream",
          "name": "stdout",
          "text": [
            "Epoch 1/3\n",
            "195/195 [==============================] - 11s 9ms/step - loss: 0.5381 - acc: 0.7197 - val_loss: 0.5161 - val_acc: 0.7442\n",
            "Epoch 2/3\n",
            "195/195 [==============================] - 1s 7ms/step - loss: 0.3356 - acc: 0.8561 - val_loss: 0.4979 - val_acc: 0.7384\n",
            "Epoch 3/3\n",
            "195/195 [==============================] - 1s 7ms/step - loss: 0.1893 - acc: 0.9282 - val_loss: 0.5244 - val_acc: 0.8121\n"
          ]
        }
      ]
    },
    {
      "cell_type": "markdown",
      "source": [
        "Predicting on the test accuracy reveals an accuracy level of 78%."
      ],
      "metadata": {
        "id": "-BIxOGVb_8p7"
      }
    },
    {
      "cell_type": "code",
      "source": [
        "predictions = model.predict(test_cnn_data, batch_size=1024, verbose=1)"
      ],
      "metadata": {
        "colab": {
          "base_uri": "https://localhost:8080/"
        },
        "id": "GaI_3w2kv3D_",
        "outputId": "c50aeb13-5f53-40f1-eb83-19afa27a1b44"
      },
      "execution_count": null,
      "outputs": [
        {
          "output_type": "stream",
          "name": "stdout",
          "text": [
            "2/2 [==============================] - 0s 99ms/step\n"
          ]
        }
      ]
    },
    {
      "cell_type": "code",
      "source": [
        "labels = [1, 0]"
      ],
      "metadata": {
        "id": "maWMr8pdwTBQ"
      },
      "execution_count": 21,
      "outputs": []
    },
    {
      "cell_type": "code",
      "source": [
        "prediction_labels=[]\n",
        "for p in predictions:\n",
        "    prediction_labels.append(labels[np.argmax(p)])"
      ],
      "metadata": {
        "id": "iDpCHgqFwWW1"
      },
      "execution_count": null,
      "outputs": []
    },
    {
      "cell_type": "code",
      "source": [
        "sum(df_test.Pos==prediction_labels)/len(prediction_labels)"
      ],
      "metadata": {
        "colab": {
          "base_uri": "https://localhost:8080/"
        },
        "id": "A4KS48xawWdL",
        "outputId": "9a5d3f72-7780-406f-f5be-2788b0bf893d"
      },
      "execution_count": null,
      "outputs": [
        {
          "output_type": "execute_result",
          "data": {
            "text/plain": [
              "0.7825370675453048"
            ]
          },
          "metadata": {},
          "execution_count": 74
        }
      ]
    },
    {
      "cell_type": "markdown",
      "source": [
        "Since there are only two categories in the testing data we should check if they are balanced as this would effect the interpretation of the model accuracy. It appears that approximately 50% of the data falls in each category. Therefore we would expect a model guessing randomly to predict 50% of the data correctly. This implies the CNN predictions are better than random."
      ],
      "metadata": {
        "id": "DCPhpaUgAE3w"
      }
    },
    {
      "cell_type": "code",
      "source": [
        "df_test.Pos.value_counts()"
      ],
      "metadata": {
        "id": "PSJC9emOw4O3",
        "outputId": "950394c2-819d-49d3-fcc8-4e643a2bc15e",
        "colab": {
          "base_uri": "https://localhost:8080/"
        }
      },
      "execution_count": null,
      "outputs": [
        {
          "output_type": "execute_result",
          "data": {
            "text/plain": [
              "0    912\n",
              "1    909\n",
              "Name: Pos, dtype: int64"
            ]
          },
          "metadata": {},
          "execution_count": 77
        }
      ]
    },
    {
      "cell_type": "markdown",
      "source": [
        "Finally, I wanted to try increasing the number of epochs to see if it improves model performance. "
      ],
      "metadata": {
        "id": "3wYLYEuRQMbD"
      }
    },
    {
      "cell_type": "code",
      "source": [
        "num_epochs = 10\n",
        "batch_size = 32\n",
        "hist2 = model.fit(x_train, \n",
        "                 y_train, \n",
        "                 epochs=num_epochs, \n",
        "                 validation_split=0.1, \n",
        "                 shuffle=True, \n",
        "                 batch_size=batch_size)"
      ],
      "metadata": {
        "colab": {
          "base_uri": "https://localhost:8080/"
        },
        "id": "_2ct8C-gPWim",
        "outputId": "140ced1d-be4c-4a50-9c31-21449e4506a3"
      },
      "execution_count": 18,
      "outputs": [
        {
          "output_type": "stream",
          "name": "stdout",
          "text": [
            "Epoch 1/10\n",
            "195/195 [==============================] - 12s 11ms/step - loss: 0.5471 - acc: 0.7205 - val_loss: 0.4496 - val_acc: 0.8064\n",
            "Epoch 2/10\n",
            "195/195 [==============================] - 2s 9ms/step - loss: 0.3424 - acc: 0.8521 - val_loss: 0.4151 - val_acc: 0.8223\n",
            "Epoch 3/10\n",
            "195/195 [==============================] - 2s 9ms/step - loss: 0.1950 - acc: 0.9282 - val_loss: 0.3913 - val_acc: 0.8353\n",
            "Epoch 4/10\n",
            "195/195 [==============================] - 2s 9ms/step - loss: 0.1001 - acc: 0.9640 - val_loss: 0.5441 - val_acc: 0.8092\n",
            "Epoch 5/10\n",
            "195/195 [==============================] - 2s 9ms/step - loss: 0.0538 - acc: 0.9820 - val_loss: 0.7314 - val_acc: 0.7572\n",
            "Epoch 6/10\n",
            "195/195 [==============================] - 2s 9ms/step - loss: 0.0364 - acc: 0.9881 - val_loss: 0.8917 - val_acc: 0.7702\n",
            "Epoch 7/10\n",
            "195/195 [==============================] - 2s 9ms/step - loss: 0.0256 - acc: 0.9905 - val_loss: 0.6088 - val_acc: 0.8280\n",
            "Epoch 8/10\n",
            "195/195 [==============================] - 2s 9ms/step - loss: 0.0177 - acc: 0.9936 - val_loss: 0.9552 - val_acc: 0.7861\n",
            "Epoch 9/10\n",
            "195/195 [==============================] - 2s 9ms/step - loss: 0.0239 - acc: 0.9902 - val_loss: 0.6883 - val_acc: 0.8266\n",
            "Epoch 10/10\n",
            "195/195 [==============================] - 2s 9ms/step - loss: 0.0345 - acc: 0.9872 - val_loss: 1.0713 - val_acc: 0.7572\n"
          ]
        }
      ]
    },
    {
      "cell_type": "markdown",
      "source": [
        "The plot below shows evidence that there may be overfitting while training the data as the validation accuracy only appears to improve with the training accuracy for the first few epochs."
      ],
      "metadata": {
        "id": "pTvttmvPRTGZ"
      }
    },
    {
      "cell_type": "code",
      "source": [
        "plt.figure()\n",
        "plt.plot(hist2.history['acc'])\n",
        "plt.plot(hist2.history['val_acc'])\n",
        "plt.title('Model Accuracy')\n",
        "plt.ylabel('Accuracy')\n",
        "plt.xlabel('Epoch')\n",
        "plt.legend(['Training', 'Validation'], loc='lower right')\n",
        "plt.show()"
      ],
      "metadata": {
        "colab": {
          "base_uri": "https://localhost:8080/",
          "height": 295
        },
        "id": "5VA80SXCRTXQ",
        "outputId": "a5ea48e4-27b0-4ecc-fae2-074be3fb42d9"
      },
      "execution_count": 27,
      "outputs": [
        {
          "output_type": "display_data",
          "data": {
            "image/png": "[encoded data removed]",
            "text/plain": [
              "<Figure size 432x288 with 1 Axes>"
            ]
          },
          "metadata": {
            "needs_background": "light"
          }
        }
      ]
    },
    {
      "cell_type": "markdown",
      "source": [
        "Looking at the test predictions it appears that the accuracy of the prediction decreased from 78% to 75%."
      ],
      "metadata": {
        "id": "9v85icrSQT1_"
      }
    },
    {
      "cell_type": "code",
      "source": [
        "predictions = model.predict(test_cnn_data, batch_size=1024, verbose=1)"
      ],
      "metadata": {
        "colab": {
          "base_uri": "https://localhost:8080/"
        },
        "id": "R_bmIRDnPjZ2",
        "outputId": "369b1cc5-35ed-47e9-9c26-b45c719b0359"
      },
      "execution_count": 19,
      "outputs": [
        {
          "output_type": "stream",
          "name": "stdout",
          "text": [
            "2/2 [==============================] - 0s 100ms/step\n"
          ]
        }
      ]
    },
    {
      "cell_type": "code",
      "source": [
        "prediction_labels=[]\n",
        "for p in predictions:\n",
        "    prediction_labels.append(labels[np.argmax(p)])"
      ],
      "metadata": {
        "id": "RWOWV7zlPrMs"
      },
      "execution_count": 22,
      "outputs": []
    },
    {
      "cell_type": "code",
      "source": [
        "sum(df_test.Pos==prediction_labels)/len(prediction_labels)"
      ],
      "metadata": {
        "colab": {
          "base_uri": "https://localhost:8080/"
        },
        "id": "nY_tAOXsPxb6",
        "outputId": "6a4d72fa-226e-4230-b9d8-9fff4bc33a1e"
      },
      "execution_count": 23,
      "outputs": [
        {
          "output_type": "execute_result",
          "data": {
            "text/plain": [
              "0.7594728171334432"
            ]
          },
          "metadata": {},
          "execution_count": 23
        }
      ]
    },
    {
      "cell_type": "markdown",
      "source": [
        "Here we can view the dataset and compare the true sentiment (Pos) with the predicted sentiment (pred)."
      ],
      "metadata": {
        "id": "ZVIV9tQ2Su1r"
      }
    },
    {
      "cell_type": "code",
      "source": [
        "df_test['pred'] = prediction_labels\n",
        "df_test[['Text_Final', 'Pos', 'pred']].head(20)"
      ],
      "metadata": {
        "colab": {
          "base_uri": "https://localhost:8080/",
          "height": 538
        },
        "id": "NshWNgy5RzxS",
        "outputId": "80060ec8-3cdf-43ac-c853-facaffa1bb67"
      },
      "execution_count": 40,
      "outputs": [
        {
          "output_type": "execute_result",
          "data": {
            "text/html": [
              "\n",
              "  <div id=\"df-127342de-1587-4da0-89f6-3ebdb75973ae\">\n",
              "    <div class=\"colab-df-container\">\n",
              "      <div>\n",
              "<style scoped>\n",
              "    .dataframe tbody tr th:only-of-type {\n",
              "        vertical-align: middle;\n",
              "    }\n",
              "\n",
              "    .dataframe tbody tr th {\n",
              "        vertical-align: top;\n",
              "    }\n",
              "\n",
              "    .dataframe thead th {\n",
              "        text-align: right;\n",
              "    }\n",
              "</style>\n",
              "<table border=\"1\" class=\"dataframe\">\n",
              "  <thead>\n",
              "    <tr style=\"text-align: right;\">\n",
              "      <th></th>\n",
              "      <th>Text_Final</th>\n",
              "      <th>Pos</th>\n",
              "      <th>pred</th>\n",
              "    </tr>\n",
              "  </thead>\n",
              "  <tbody>\n",
              "    <tr>\n",
              "      <th>1</th>\n",
              "      <td>sometimes like go movies fun wasabi good place...</td>\n",
              "      <td>1</td>\n",
              "      <td>1</td>\n",
              "    </tr>\n",
              "    <tr>\n",
              "      <th>2</th>\n",
              "      <td>emerges something rare issue movie honest keen...</td>\n",
              "      <td>1</td>\n",
              "      <td>1</td>\n",
              "    </tr>\n",
              "    <tr>\n",
              "      <th>4</th>\n",
              "      <td>offers rare combination entertainment education</td>\n",
              "      <td>1</td>\n",
              "      <td>1</td>\n",
              "    </tr>\n",
              "    <tr>\n",
              "      <th>5</th>\n",
              "      <td>perhaps picture ever made literally showed roa...</td>\n",
              "      <td>1</td>\n",
              "      <td>1</td>\n",
              "    </tr>\n",
              "    <tr>\n",
              "      <th>6</th>\n",
              "      <td>steers turns snappy screenplay curls edges cle...</td>\n",
              "      <td>1</td>\n",
              "      <td>1</td>\n",
              "    </tr>\n",
              "    <tr>\n",
              "      <th>7</th>\n",
              "      <td>somehow pulls</td>\n",
              "      <td>1</td>\n",
              "      <td>1</td>\n",
              "    </tr>\n",
              "    <tr>\n",
              "      <th>8</th>\n",
              "      <td>take care cat offers refreshingly different sl...</td>\n",
              "      <td>1</td>\n",
              "      <td>1</td>\n",
              "    </tr>\n",
              "    <tr>\n",
              "      <th>9</th>\n",
              "      <td>film well worth seeing talking singing heads</td>\n",
              "      <td>1</td>\n",
              "      <td>1</td>\n",
              "    </tr>\n",
              "    <tr>\n",
              "      <th>10</th>\n",
              "      <td>really surprises wisegirls lowkey quality genu...</td>\n",
              "      <td>1</td>\n",
              "      <td>1</td>\n",
              "    </tr>\n",
              "    <tr>\n",
              "      <th>11</th>\n",
              "      <td>wendigo go cinema fed eye heart mind</td>\n",
              "      <td>1</td>\n",
              "      <td>1</td>\n",
              "    </tr>\n",
              "    <tr>\n",
              "      <th>12</th>\n",
              "      <td>one greatest familyoriented fantasyadventure m...</td>\n",
              "      <td>1</td>\n",
              "      <td>1</td>\n",
              "    </tr>\n",
              "    <tr>\n",
              "      <th>14</th>\n",
              "      <td>utterly compelling wrote reputation famous aut...</td>\n",
              "      <td>1</td>\n",
              "      <td>1</td>\n",
              "    </tr>\n",
              "    <tr>\n",
              "      <th>16</th>\n",
              "      <td>masterpiece four years making</td>\n",
              "      <td>1</td>\n",
              "      <td>1</td>\n",
              "    </tr>\n",
              "    <tr>\n",
              "      <th>17</th>\n",
              "      <td>movie ripe enrapturing beauty tempt willing pr...</td>\n",
              "      <td>1</td>\n",
              "      <td>1</td>\n",
              "    </tr>\n",
              "    <tr>\n",
              "      <th>18</th>\n",
              "      <td>offers breath fresh air true sophistication</td>\n",
              "      <td>1</td>\n",
              "      <td>1</td>\n",
              "    </tr>\n",
              "    <tr>\n",
              "      <th>19</th>\n",
              "      <td>thoughtful provocative insistently humanizing ...</td>\n",
              "      <td>1</td>\n",
              "      <td>1</td>\n",
              "    </tr>\n",
              "    <tr>\n",
              "      <th>20</th>\n",
              "      <td>cast includes top actors working independent f...</td>\n",
              "      <td>1</td>\n",
              "      <td>1</td>\n",
              "    </tr>\n",
              "    <tr>\n",
              "      <th>22</th>\n",
              "      <td>everyone connect nice departure standard movie...</td>\n",
              "      <td>1</td>\n",
              "      <td>1</td>\n",
              "    </tr>\n",
              "    <tr>\n",
              "      <th>23</th>\n",
              "      <td>scores points dedicated goodhearted profession...</td>\n",
              "      <td>1</td>\n",
              "      <td>0</td>\n",
              "    </tr>\n",
              "    <tr>\n",
              "      <th>24</th>\n",
              "      <td>occasionally melodramatic also extremely effec...</td>\n",
              "      <td>1</td>\n",
              "      <td>1</td>\n",
              "    </tr>\n",
              "  </tbody>\n",
              "</table>\n",
              "</div>\n",
              "      <button class=\"colab-df-convert\" onclick=\"convertToInteractive('df-127342de-1587-4da0-89f6-3ebdb75973ae')\"\n",
              "              title=\"Convert this dataframe to an interactive table.\"\n",
              "              style=\"display:none;\">\n",
              "        \n",
              "  <svg xmlns=\"http://www.w3.org/2000/svg\" height=\"24px\"viewBox=\"0 0 24 24\"\n",
              "       width=\"24px\">\n",
              "    <path d=\"M0 0h24v24H0V0z\" fill=\"none\"/>\n",
              "    <path d=\"M18.56 5.44l.94 2.06.94-2.06 2.06-.94-2.06-.94-.94-2.06-.94 2.06-2.06.94zm-11 1L8.5 8.5l.94-2.06 2.06-.94-2.06-.94L8.5 2.5l-.94 2.06-2.06.94zm10 10l.94 2.06.94-2.06 2.06-.94-2.06-.94-.94-2.06-.94 2.06-2.06.94z\"/><path d=\"M17.41 7.96l-1.37-1.37c-.4-.4-.92-.59-1.43-.59-.52 0-1.04.2-1.43.59L10.3 9.45l-7.72 7.72c-.78.78-.78 2.05 0 2.83L4 21.41c.39.39.9.59 1.41.59.51 0 1.02-.2 1.41-.59l7.78-7.78 2.81-2.81c.8-.78.8-2.07 0-2.86zM5.41 20L4 18.59l7.72-7.72 1.47 1.35L5.41 20z\"/>\n",
              "  </svg>\n",
              "      </button>\n",
              "      \n",
              "  <style>\n",
              "    .colab-df-container {\n",
              "      display:flex;\n",
              "      flex-wrap:wrap;\n",
              "      gap: 12px;\n",
              "    }\n",
              "\n",
              "    .colab-df-convert {\n",
              "      background-color: #E8F0FE;\n",
              "      border: none;\n",
              "      border-radius: 50%;\n",
              "      cursor: pointer;\n",
              "      display: none;\n",
              "      fill: #1967D2;\n",
              "      height: 32px;\n",
              "      padding: 0 0 0 0;\n",
              "      width: 32px;\n",
              "    }\n",
              "\n",
              "    .colab-df-convert:hover {\n",
              "      background-color: #E2EBFA;\n",
              "      box-shadow: 0px 1px 2px rgba(60, 64, 67, 0.3), 0px 1px 3px 1px rgba(60, 64, 67, 0.15);\n",
              "      fill: #174EA6;\n",
              "    }\n",
              "\n",
              "    [theme=dark] .colab-df-convert {\n",
              "      background-color: #3B4455;\n",
              "      fill: #D2E3FC;\n",
              "    }\n",
              "\n",
              "    [theme=dark] .colab-df-convert:hover {\n",
              "      background-color: #434B5C;\n",
              "      box-shadow: 0px 1px 3px 1px rgba(0, 0, 0, 0.15);\n",
              "      filter: drop-shadow(0px 1px 2px rgba(0, 0, 0, 0.3));\n",
              "      fill: #FFFFFF;\n",
              "    }\n",
              "  </style>\n",
              "\n",
              "      <script>\n",
              "        const buttonEl =\n",
              "          document.querySelector('#df-127342de-1587-4da0-89f6-3ebdb75973ae button.colab-df-convert');\n",
              "        buttonEl.style.display =\n",
              "          google.colab.kernel.accessAllowed ? 'block' : 'none';\n",
              "\n",
              "        async function convertToInteractive(key) {\n",
              "          const element = document.querySelector('#df-127342de-1587-4da0-89f6-3ebdb75973ae');\n",
              "          const dataTable =\n",
              "            await google.colab.kernel.invokeFunction('convertToInteractive',\n",
              "                                                     [key], {});\n",
              "          if (!dataTable) return;\n",
              "\n",
              "          const docLinkHtml = 'Like what you see? Visit the ' +\n",
              "            '<a target=\"_blank\" href=https://colab.research.google.com/notebooks/data_table.ipynb>data table notebook</a>'\n",
              "            + ' to learn more about interactive tables.';\n",
              "          element.innerHTML = '';\n",
              "          dataTable['output_type'] = 'display_data';\n",
              "          await google.colab.output.renderOutput(dataTable, element);\n",
              "          const docLink = document.createElement('div');\n",
              "          docLink.innerHTML = docLinkHtml;\n",
              "          element.appendChild(docLink);\n",
              "        }\n",
              "      </script>\n",
              "    </div>\n",
              "  </div>\n",
              "  "
            ],
            "text/plain": [
              "                                           Text_Final  Pos  pred\n",
              "1   sometimes like go movies fun wasabi good place...    1     1\n",
              "2   emerges something rare issue movie honest keen...    1     1\n",
              "4     offers rare combination entertainment education    1     1\n",
              "5   perhaps picture ever made literally showed roa...    1     1\n",
              "6   steers turns snappy screenplay curls edges cle...    1     1\n",
              "7                                       somehow pulls    1     1\n",
              "8   take care cat offers refreshingly different sl...    1     1\n",
              "9        film well worth seeing talking singing heads    1     1\n",
              "10  really surprises wisegirls lowkey quality genu...    1     1\n",
              "11               wendigo go cinema fed eye heart mind    1     1\n",
              "12  one greatest familyoriented fantasyadventure m...    1     1\n",
              "14  utterly compelling wrote reputation famous aut...    1     1\n",
              "16                      masterpiece four years making    1     1\n",
              "17  movie ripe enrapturing beauty tempt willing pr...    1     1\n",
              "18        offers breath fresh air true sophistication    1     1\n",
              "19  thoughtful provocative insistently humanizing ...    1     1\n",
              "20  cast includes top actors working independent f...    1     1\n",
              "22  everyone connect nice departure standard movie...    1     1\n",
              "23  scores points dedicated goodhearted profession...    1     0\n",
              "24  occasionally melodramatic also extremely effec...    1     1"
            ]
          },
          "metadata": {},
          "execution_count": 40
        }
      ]
    },
    {
      "cell_type": "markdown",
      "source": [
        "We can also filter to see only cases in which the predictions to not match. However there doesn't seem to be much of a difference between the sentences which match and don't match."
      ],
      "metadata": {
        "id": "8apKpxQ7T_g9"
      }
    },
    {
      "cell_type": "code",
      "source": [
        "df_test2 = df_test[df_test['Pos'] != df_test['pred']]\n",
        "df_test2[['Text_Final', 'Pos', 'pred']].head(20)"
      ],
      "metadata": {
        "colab": {
          "base_uri": "https://localhost:8080/",
          "height": 538
        },
        "id": "jVZbYH1ITive",
        "outputId": "d23c6d36-988c-400d-88e1-9f62e3ea7f28"
      },
      "execution_count": 42,
      "outputs": [
        {
          "output_type": "execute_result",
          "data": {
            "text/html": [
              "\n",
              "  <div id=\"df-065f4fb1-82c4-4936-94fb-ae715a9d3f02\">\n",
              "    <div class=\"colab-df-container\">\n",
              "      <div>\n",
              "<style scoped>\n",
              "    .dataframe tbody tr th:only-of-type {\n",
              "        vertical-align: middle;\n",
              "    }\n",
              "\n",
              "    .dataframe tbody tr th {\n",
              "        vertical-align: top;\n",
              "    }\n",
              "\n",
              "    .dataframe thead th {\n",
              "        text-align: right;\n",
              "    }\n",
              "</style>\n",
              "<table border=\"1\" class=\"dataframe\">\n",
              "  <thead>\n",
              "    <tr style=\"text-align: right;\">\n",
              "      <th></th>\n",
              "      <th>Text_Final</th>\n",
              "      <th>Pos</th>\n",
              "      <th>pred</th>\n",
              "    </tr>\n",
              "  </thead>\n",
              "  <tbody>\n",
              "    <tr>\n",
              "      <th>23</th>\n",
              "      <td>scores points dedicated goodhearted profession...</td>\n",
              "      <td>1</td>\n",
              "      <td>0</td>\n",
              "    </tr>\n",
              "    <tr>\n",
              "      <th>27</th>\n",
              "      <td>however lacks grandeur epic quality often asso...</td>\n",
              "      <td>0</td>\n",
              "      <td>1</td>\n",
              "    </tr>\n",
              "    <tr>\n",
              "      <th>34</th>\n",
              "      <td>though everything might literate smart never t...</td>\n",
              "      <td>0</td>\n",
              "      <td>1</td>\n",
              "    </tr>\n",
              "    <tr>\n",
              "      <th>36</th>\n",
              "      <td>ms fulfordwierzbicki almost spooky sulky calcu...</td>\n",
              "      <td>1</td>\n",
              "      <td>0</td>\n",
              "    </tr>\n",
              "    <tr>\n",
              "      <th>38</th>\n",
              "      <td>like bond outings recent years stunts outlandi...</td>\n",
              "      <td>0</td>\n",
              "      <td>1</td>\n",
              "    </tr>\n",
              "    <tr>\n",
              "      <th>64</th>\n",
              "      <td>son bride may good halfhour long comes replete...</td>\n",
              "      <td>0</td>\n",
              "      <td>1</td>\n",
              "    </tr>\n",
              "    <tr>\n",
              "      <th>75</th>\n",
              "      <td>absorbing disturbing perhaps disturbing origin...</td>\n",
              "      <td>0</td>\n",
              "      <td>1</td>\n",
              "    </tr>\n",
              "    <tr>\n",
              "      <th>89</th>\n",
              "      <td>like film almost anthropologically detailed re...</td>\n",
              "      <td>1</td>\n",
              "      <td>0</td>\n",
              "    </tr>\n",
              "    <tr>\n",
              "      <th>90</th>\n",
              "      <td>mcfarlane animation lifts film firmly level co...</td>\n",
              "      <td>0</td>\n",
              "      <td>1</td>\n",
              "    </tr>\n",
              "    <tr>\n",
              "      <th>100</th>\n",
              "      <td>surface loversontherun crime flick lot common ...</td>\n",
              "      <td>1</td>\n",
              "      <td>0</td>\n",
              "    </tr>\n",
              "    <tr>\n",
              "      <th>102</th>\n",
              "      <td>possible sequel outshine original sl2</td>\n",
              "      <td>1</td>\n",
              "      <td>0</td>\n",
              "    </tr>\n",
              "    <tr>\n",
              "      <th>117</th>\n",
              "      <td>somewhere short tremors modern bscene neither ...</td>\n",
              "      <td>0</td>\n",
              "      <td>1</td>\n",
              "    </tr>\n",
              "    <tr>\n",
              "      <th>126</th>\n",
              "      <td>exactly gourmet meal fare fair even coming dri...</td>\n",
              "      <td>1</td>\n",
              "      <td>0</td>\n",
              "    </tr>\n",
              "    <tr>\n",
              "      <th>130</th>\n",
              "      <td>great deal sizzle little steak</td>\n",
              "      <td>0</td>\n",
              "      <td>1</td>\n",
              "    </tr>\n",
              "    <tr>\n",
              "      <th>153</th>\n",
              "      <td>ray liotta jason patric best work underwritten...</td>\n",
              "      <td>0</td>\n",
              "      <td>1</td>\n",
              "    </tr>\n",
              "    <tr>\n",
              "      <th>193</th>\n",
              "      <td>whether moved love bored frustrated film still...</td>\n",
              "      <td>1</td>\n",
              "      <td>0</td>\n",
              "    </tr>\n",
              "    <tr>\n",
              "      <th>205</th>\n",
              "      <td>narc may get originality wears bmovie heritage...</td>\n",
              "      <td>1</td>\n",
              "      <td>0</td>\n",
              "    </tr>\n",
              "    <tr>\n",
              "      <th>213</th>\n",
              "      <td>trimmed 20 minutes lavish threeyearold product...</td>\n",
              "      <td>1</td>\n",
              "      <td>0</td>\n",
              "    </tr>\n",
              "    <tr>\n",
              "      <th>224</th>\n",
              "      <td>one polanski best films</td>\n",
              "      <td>1</td>\n",
              "      <td>0</td>\n",
              "    </tr>\n",
              "    <tr>\n",
              "      <th>249</th>\n",
              "      <td>windtalkers shapelessly gratifying kind movie ...</td>\n",
              "      <td>1</td>\n",
              "      <td>0</td>\n",
              "    </tr>\n",
              "  </tbody>\n",
              "</table>\n",
              "</div>\n",
              "      <button class=\"colab-df-convert\" onclick=\"convertToInteractive('df-065f4fb1-82c4-4936-94fb-ae715a9d3f02')\"\n",
              "              title=\"Convert this dataframe to an interactive table.\"\n",
              "              style=\"display:none;\">\n",
              "        \n",
              "  <svg xmlns=\"http://www.w3.org/2000/svg\" height=\"24px\"viewBox=\"0 0 24 24\"\n",
              "       width=\"24px\">\n",
              "    <path d=\"M0 0h24v24H0V0z\" fill=\"none\"/>\n",
              "    <path d=\"M18.56 5.44l.94 2.06.94-2.06 2.06-.94-2.06-.94-.94-2.06-.94 2.06-2.06.94zm-11 1L8.5 8.5l.94-2.06 2.06-.94-2.06-.94L8.5 2.5l-.94 2.06-2.06.94zm10 10l.94 2.06.94-2.06 2.06-.94-2.06-.94-.94-2.06-.94 2.06-2.06.94z\"/><path d=\"M17.41 7.96l-1.37-1.37c-.4-.4-.92-.59-1.43-.59-.52 0-1.04.2-1.43.59L10.3 9.45l-7.72 7.72c-.78.78-.78 2.05 0 2.83L4 21.41c.39.39.9.59 1.41.59.51 0 1.02-.2 1.41-.59l7.78-7.78 2.81-2.81c.8-.78.8-2.07 0-2.86zM5.41 20L4 18.59l7.72-7.72 1.47 1.35L5.41 20z\"/>\n",
              "  </svg>\n",
              "      </button>\n",
              "      \n",
              "  <style>\n",
              "    .colab-df-container {\n",
              "      display:flex;\n",
              "      flex-wrap:wrap;\n",
              "      gap: 12px;\n",
              "    }\n",
              "\n",
              "    .colab-df-convert {\n",
              "      background-color: #E8F0FE;\n",
              "      border: none;\n",
              "      border-radius: 50%;\n",
              "      cursor: pointer;\n",
              "      display: none;\n",
              "      fill: #1967D2;\n",
              "      height: 32px;\n",
              "      padding: 0 0 0 0;\n",
              "      width: 32px;\n",
              "    }\n",
              "\n",
              "    .colab-df-convert:hover {\n",
              "      background-color: #E2EBFA;\n",
              "      box-shadow: 0px 1px 2px rgba(60, 64, 67, 0.3), 0px 1px 3px 1px rgba(60, 64, 67, 0.15);\n",
              "      fill: #174EA6;\n",
              "    }\n",
              "\n",
              "    [theme=dark] .colab-df-convert {\n",
              "      background-color: #3B4455;\n",
              "      fill: #D2E3FC;\n",
              "    }\n",
              "\n",
              "    [theme=dark] .colab-df-convert:hover {\n",
              "      background-color: #434B5C;\n",
              "      box-shadow: 0px 1px 3px 1px rgba(0, 0, 0, 0.15);\n",
              "      filter: drop-shadow(0px 1px 2px rgba(0, 0, 0, 0.3));\n",
              "      fill: #FFFFFF;\n",
              "    }\n",
              "  </style>\n",
              "\n",
              "      <script>\n",
              "        const buttonEl =\n",
              "          document.querySelector('#df-065f4fb1-82c4-4936-94fb-ae715a9d3f02 button.colab-df-convert');\n",
              "        buttonEl.style.display =\n",
              "          google.colab.kernel.accessAllowed ? 'block' : 'none';\n",
              "\n",
              "        async function convertToInteractive(key) {\n",
              "          const element = document.querySelector('#df-065f4fb1-82c4-4936-94fb-ae715a9d3f02');\n",
              "          const dataTable =\n",
              "            await google.colab.kernel.invokeFunction('convertToInteractive',\n",
              "                                                     [key], {});\n",
              "          if (!dataTable) return;\n",
              "\n",
              "          const docLinkHtml = 'Like what you see? Visit the ' +\n",
              "            '<a target=\"_blank\" href=https://colab.research.google.com/notebooks/data_table.ipynb>data table notebook</a>'\n",
              "            + ' to learn more about interactive tables.';\n",
              "          element.innerHTML = '';\n",
              "          dataTable['output_type'] = 'display_data';\n",
              "          await google.colab.output.renderOutput(dataTable, element);\n",
              "          const docLink = document.createElement('div');\n",
              "          docLink.innerHTML = docLinkHtml;\n",
              "          element.appendChild(docLink);\n",
              "        }\n",
              "      </script>\n",
              "    </div>\n",
              "  </div>\n",
              "  "
            ],
            "text/plain": [
              "                                            Text_Final  Pos  pred\n",
              "23   scores points dedicated goodhearted profession...    1     0\n",
              "27   however lacks grandeur epic quality often asso...    0     1\n",
              "34   though everything might literate smart never t...    0     1\n",
              "36   ms fulfordwierzbicki almost spooky sulky calcu...    1     0\n",
              "38   like bond outings recent years stunts outlandi...    0     1\n",
              "64   son bride may good halfhour long comes replete...    0     1\n",
              "75   absorbing disturbing perhaps disturbing origin...    0     1\n",
              "89   like film almost anthropologically detailed re...    1     0\n",
              "90   mcfarlane animation lifts film firmly level co...    0     1\n",
              "100  surface loversontherun crime flick lot common ...    1     0\n",
              "102              possible sequel outshine original sl2    1     0\n",
              "117  somewhere short tremors modern bscene neither ...    0     1\n",
              "126  exactly gourmet meal fare fair even coming dri...    1     0\n",
              "130                     great deal sizzle little steak    0     1\n",
              "153  ray liotta jason patric best work underwritten...    0     1\n",
              "193  whether moved love bored frustrated film still...    1     0\n",
              "205  narc may get originality wears bmovie heritage...    1     0\n",
              "213  trimmed 20 minutes lavish threeyearold product...    1     0\n",
              "224                            one polanski best films    1     0\n",
              "249  windtalkers shapelessly gratifying kind movie ...    1     0"
            ]
          },
          "metadata": {},
          "execution_count": 42
        }
      ]
    },
    {
      "cell_type": "markdown",
      "source": [
        "## Summary\n",
        "\n",
        "The CNN model appears to have done a good job at predicting the sentiment for the reviews although there is some room for improvement. In future reports I may want to attempt to classify strongly positive/negative and nuetral statements as well and also compare the results from the CNN to different models.\n",
        "\n",
        "It also seems that training for too many epoch on this data can cause overfitting leading to a decrease in model performance."
      ],
      "metadata": {
        "id": "RxnY4HhL9IsH"
      }
    }
  ]
}